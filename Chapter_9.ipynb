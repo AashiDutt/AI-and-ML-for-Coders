{
  "nbformat": 4,
  "nbformat_minor": 0,
  "metadata": {
    "colab": {
      "name": "Chapter 9.ipynb",
      "provenance": [],
      "authorship_tag": "ABX9TyPiaspKMBQ55mSBdYBsezJ7",
      "include_colab_link": true
    },
    "kernelspec": {
      "name": "python3",
      "display_name": "Python 3"
    },
    "language_info": {
      "name": "python"
    }
  },
  "cells": [
    {
      "cell_type": "markdown",
      "metadata": {
        "id": "view-in-github",
        "colab_type": "text"
      },
      "source": [
        "<a href=\"https://colab.research.google.com/github/AashiDutt/AI-and-ML-for-Coders/blob/main/Chapter_9.ipynb\" target=\"_parent\"><img src=\"https://colab.research.google.com/assets/colab-badge.svg\" alt=\"Open In Colab\"/></a>"
      ]
    },
    {
      "cell_type": "markdown",
      "source": [
        "This colab contains code for:\n",
        "\n",
        "1. Techniques for predicting Time Series\n",
        "\n",
        "  a) Naive Prediction to create a baseline"
      ],
      "metadata": {
        "id": "QZvaBHUxM5RY"
      }
    },
    {
      "cell_type": "code",
      "execution_count": 9,
      "metadata": {
        "id": "uRhyKtVm2kkw"
      },
      "outputs": [],
      "source": [
        "# Navive Prediction to create a baseline - bsic method to predict a time series\n",
        "# is to say that predicted value at t+1 is same as the value at t, effectively shifting time series by single period.\n",
        "\n",
        "#Creating Time Series\n",
        "\n",
        "import matplotlib.pyplot as plt\n",
        "import numpy as np\n",
        "\n",
        "def trend(time, slope = 0):\n",
        "  return slope * time\n",
        "\n",
        "#Seasonality - data repeats itself after a time\n",
        "def seasonal_pattern(season_time): \n",
        "  return np.where(season_time < 0.4, np.cos(season_time *2*np.pi), 1/np.exp(3*season_time))\n",
        "\n",
        "def seasonality(time, period, amplitude, phase = 0):\n",
        "  season_time = ((time + phase) % period) / period\n",
        "  return amplitude * seasonal_pattern(season_time)\n",
        "\n",
        "# Noise is random perturbations in time series that increases unpredictability\n",
        "def noise(time, noise_level = 1, seed = None):\n",
        "  rnd = np.random.RandomState(seed)\n",
        "  return rnd.randn(len(time)) * noise_level\n",
        "\n",
        "time = np.arange( 4 * 365 + 1, dtype = \"float32\")\n",
        "baseline = 10\n",
        "series = trend(time, .05)\n",
        "baseline = 10\n",
        "amplitude = 15\n",
        "slope = 0.09\n",
        "noise_level = 6\n",
        "\n",
        "\n",
        "#create series\n",
        "\n",
        "series = baseline + trend(time, slope) + seasonality(time, period = 365, amplitude = amplitude)\n",
        "\n",
        "#Update noise\n",
        "\n",
        "series += noise(time, noise_level, seed = 42)\n",
        "\n",
        "split_time = 1000\n",
        "time_train = time[:split_time]\n",
        "x_train = series[:split_time]\n",
        "time_valid = time[split_time:]\n",
        "x_valid = series[split_time:]\n",
        "\n",
        "window_size = 20\n",
        "batch_size = 32\n",
        "shuffle_buffer_size = 1000"
      ]
    },
    {
      "cell_type": "code",
      "source": [
        "def plot_series(time, series, format = \"-\", start = 0, end = None):\n",
        "  plt.plot(time[start:end],series[start:end], format)\n",
        "  plt.xlabel(\"Time\")\n",
        "  plt.ylabel(\"Value\")\n",
        "  plt.grid(True)"
      ],
      "metadata": {
        "id": "Z5mqZi6ZP-Wv"
      },
      "execution_count": 10,
      "outputs": []
    },
    {
      "cell_type": "code",
      "source": [
        "plot_series(time, series)"
      ],
      "metadata": {
        "colab": {
          "base_uri": "https://localhost:8080/",
          "height": 279
        },
        "id": "dRk2OFxtQRwV",
        "outputId": "16df9fd0-4777-4763-c48b-629f6a946060"
      },
      "execution_count": 11,
      "outputs": [
        {
          "output_type": "display_data",
          "data": {
            "image/png": "[encoded data removed]",
            "text/plain": [
              "<Figure size 432x288 with 1 Axes>"
            ]
          },
          "metadata": {
            "needs_background": "light"
          }
        }
      ]
    },
    {
      "cell_type": "code",
      "source": [
        "#measuring prediction accuracy\n",
        "# MSE and MAE\n"
      ],
      "metadata": {
        "id": "LdcNd3zKRimV"
      },
      "execution_count": null,
      "outputs": []
    },
    {
      "cell_type": "code",
      "source": [
        "# Moving average for prediction\n",
        "# instead of taking t-1 value to predict value at t\n",
        "# take 30 values, average them to predict value at t\\\n",
        "\n",
        "def moving_average_forecast(series, window_size):\n",
        "  forecast= []\n",
        "  for time in range(len(series)-window_size):\n",
        "    forecast.append(series[time:time + window_size].mean())\n",
        "  return np.array(forecast)\n",
        "\n",
        "moving_avg = moving_average_forecast(series, 30)[split_time - 30:]\n",
        "\n",
        "plt.figure(figsize = (10, 6))\n",
        "plot_series(time_valid, x_valid)\n",
        "plot_series(time_valid, moving_avg)\n",
        "  "
      ],
      "metadata": {
        "id": "WBt5f68yTxiG"
      },
      "execution_count": 7,
      "outputs": []
    },
    {
      "cell_type": "code",
      "source": [
        "moving_average_forecast(series, 10)"
      ],
      "metadata": {
        "colab": {
          "base_uri": "https://localhost:8080/"
        },
        "id": "uK6TYGPOUs9a",
        "outputId": "fa11eb9b-dda6-4d92-a04c-2d68227830b5"
      },
      "execution_count": 8,
      "outputs": [
        {
          "output_type": "execute_result",
          "data": {
            "text/plain": [
              "array([ 28.030111,  27.521862,  27.388794, ..., 145.15088 , 145.26524 ,\n",
              "       145.73996 ], dtype=float32)"
            ]
          },
          "metadata": {},
          "execution_count": 8
        }
      ]
    },
    {
      "cell_type": "code",
      "source": [
        ""
      ],
      "metadata": {
        "id": "YiVDaXe3Wrme"
      },
      "execution_count": null,
      "outputs": []
    }
  ]
}