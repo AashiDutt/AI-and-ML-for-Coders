{
  "nbformat": 4,
  "nbformat_minor": 0,
  "metadata": {
    "colab": {
      "name": "Chapter 3.ipynb",
      "provenance": [],
      "authorship_tag": "ABX9TyOEEdBFJVCrgBvpSmVcxE4B",
      "include_colab_link": true
    },
    "kernelspec": {
      "name": "python3",
      "display_name": "Python 3"
    },
    "language_info": {
      "name": "python"
    }
  },
  "cells": [
    {
      "cell_type": "markdown",
      "metadata": {
        "id": "view-in-github",
        "colab_type": "text"
      },
      "source": [
        "<a href=\"https://colab.research.google.com/github/AashiDutt/AI-and-ML-for-Coders/blob/main/Chapter_3.ipynb\" target=\"_parent\"><img src=\"https://colab.research.google.com/assets/colab-badge.svg\" alt=\"Open In Colab\"/></a>"
      ]
    },
    {
      "cell_type": "code",
      "execution_count": 1,
      "metadata": {
        "colab": {
          "base_uri": "https://localhost:8080/"
        },
        "id": "a1MmeEhLUkuX",
        "outputId": "37ba0074-e087-495f-df6a-79ddafd971a5"
      },
      "outputs": [
        {
          "output_type": "stream",
          "name": "stdout",
          "text": [
            "Downloading data from https://storage.googleapis.com/tensorflow/tf-keras-datasets/train-labels-idx1-ubyte.gz\n",
            "32768/29515 [=================================] - 0s 0us/step\n",
            "40960/29515 [=========================================] - 0s 0us/step\n",
            "Downloading data from https://storage.googleapis.com/tensorflow/tf-keras-datasets/train-images-idx3-ubyte.gz\n",
            "26427392/26421880 [==============================] - 1s 0us/step\n",
            "26435584/26421880 [==============================] - 1s 0us/step\n",
            "Downloading data from https://storage.googleapis.com/tensorflow/tf-keras-datasets/t10k-labels-idx1-ubyte.gz\n",
            "16384/5148 [===============================================================================================] - 0s 0us/step\n",
            "Downloading data from https://storage.googleapis.com/tensorflow/tf-keras-datasets/t10k-images-idx3-ubyte.gz\n",
            "4423680/4422102 [==============================] - 0s 0us/step\n",
            "4431872/4422102 [==============================] - 0s 0us/step\n",
            "Epoch 1/50\n",
            "1875/1875 [==============================] - 61s 32ms/step - loss: 0.4398 - accuracy: 0.8396\n",
            "Epoch 2/50\n",
            "1875/1875 [==============================] - 60s 32ms/step - loss: 0.2936 - accuracy: 0.8913\n",
            "Epoch 3/50\n",
            "1875/1875 [==============================] - 60s 32ms/step - loss: 0.2489 - accuracy: 0.9076\n",
            "Epoch 4/50\n",
            "1875/1875 [==============================] - 59s 32ms/step - loss: 0.2166 - accuracy: 0.9189\n",
            "Epoch 5/50\n",
            "1875/1875 [==============================] - 60s 32ms/step - loss: 0.1911 - accuracy: 0.9278\n",
            "Epoch 6/50\n",
            "1875/1875 [==============================] - 59s 32ms/step - loss: 0.1661 - accuracy: 0.9377\n",
            "Epoch 7/50\n",
            "1875/1875 [==============================] - 59s 32ms/step - loss: 0.1468 - accuracy: 0.9443\n",
            "Epoch 8/50\n",
            "1875/1875 [==============================] - 59s 32ms/step - loss: 0.1300 - accuracy: 0.9510\n",
            "Epoch 9/50\n",
            "1875/1875 [==============================] - 59s 32ms/step - loss: 0.1139 - accuracy: 0.9559\n",
            "Epoch 10/50\n",
            "1875/1875 [==============================] - 59s 32ms/step - loss: 0.1005 - accuracy: 0.9609\n",
            "Epoch 11/50\n",
            "1875/1875 [==============================] - 59s 32ms/step - loss: 0.0885 - accuracy: 0.9667\n",
            "Epoch 12/50\n",
            "1875/1875 [==============================] - 59s 31ms/step - loss: 0.0788 - accuracy: 0.9703\n",
            "Epoch 13/50\n",
            "1875/1875 [==============================] - 59s 31ms/step - loss: 0.0707 - accuracy: 0.9730\n",
            "Epoch 14/50\n",
            "1875/1875 [==============================] - 59s 31ms/step - loss: 0.0620 - accuracy: 0.9763\n",
            "Epoch 15/50\n",
            "1875/1875 [==============================] - 59s 32ms/step - loss: 0.0571 - accuracy: 0.9779\n",
            "Epoch 16/50\n",
            "1875/1875 [==============================] - 59s 31ms/step - loss: 0.0547 - accuracy: 0.9798\n",
            "Epoch 17/50\n",
            "1875/1875 [==============================] - 59s 32ms/step - loss: 0.0470 - accuracy: 0.9827\n",
            "Epoch 18/50\n",
            "1875/1875 [==============================] - 59s 31ms/step - loss: 0.0450 - accuracy: 0.9829\n",
            "Epoch 19/50\n",
            "1875/1875 [==============================] - 59s 32ms/step - loss: 0.0409 - accuracy: 0.9846\n",
            "Epoch 20/50\n",
            "1875/1875 [==============================] - 59s 32ms/step - loss: 0.0384 - accuracy: 0.9860\n",
            "Epoch 21/50\n",
            "1875/1875 [==============================] - 59s 31ms/step - loss: 0.0368 - accuracy: 0.9864\n",
            "Epoch 22/50\n",
            "1875/1875 [==============================] - 59s 31ms/step - loss: 0.0327 - accuracy: 0.9876\n",
            "Epoch 23/50\n",
            "1875/1875 [==============================] - 59s 31ms/step - loss: 0.0335 - accuracy: 0.9881\n",
            "Epoch 24/50\n",
            "1875/1875 [==============================] - 59s 31ms/step - loss: 0.0306 - accuracy: 0.9887\n",
            "Epoch 25/50\n",
            "1875/1875 [==============================] - 59s 32ms/step - loss: 0.0304 - accuracy: 0.9887\n",
            "Epoch 26/50\n",
            "1875/1875 [==============================] - 59s 31ms/step - loss: 0.0273 - accuracy: 0.9903\n",
            "Epoch 27/50\n",
            "1875/1875 [==============================] - 59s 31ms/step - loss: 0.0247 - accuracy: 0.9912\n",
            "Epoch 28/50\n",
            "1875/1875 [==============================] - 59s 31ms/step - loss: 0.0259 - accuracy: 0.9909\n",
            "Epoch 29/50\n",
            "1875/1875 [==============================] - 59s 31ms/step - loss: 0.0242 - accuracy: 0.9916\n",
            "Epoch 30/50\n",
            "1875/1875 [==============================] - 59s 32ms/step - loss: 0.0285 - accuracy: 0.9904\n",
            "Epoch 31/50\n",
            "1875/1875 [==============================] - 59s 31ms/step - loss: 0.0236 - accuracy: 0.9915\n",
            "Epoch 32/50\n",
            "1875/1875 [==============================] - 59s 31ms/step - loss: 0.0248 - accuracy: 0.9914\n",
            "Epoch 33/50\n",
            "1875/1875 [==============================] - 59s 31ms/step - loss: 0.0217 - accuracy: 0.9926\n",
            "Epoch 34/50\n",
            "1875/1875 [==============================] - 59s 31ms/step - loss: 0.0242 - accuracy: 0.9918\n",
            "Epoch 35/50\n",
            "1875/1875 [==============================] - 59s 31ms/step - loss: 0.0217 - accuracy: 0.9929\n",
            "Epoch 36/50\n",
            "1875/1875 [==============================] - 59s 31ms/step - loss: 0.0184 - accuracy: 0.9936\n",
            "Epoch 37/50\n",
            "1875/1875 [==============================] - 59s 31ms/step - loss: 0.0228 - accuracy: 0.9921\n",
            "Epoch 38/50\n",
            "1875/1875 [==============================] - 59s 31ms/step - loss: 0.0220 - accuracy: 0.9924\n",
            "Epoch 39/50\n",
            "1875/1875 [==============================] - 59s 31ms/step - loss: 0.0206 - accuracy: 0.9931\n",
            "Epoch 40/50\n",
            "1875/1875 [==============================] - 59s 31ms/step - loss: 0.0209 - accuracy: 0.9931\n",
            "Epoch 41/50\n",
            "1875/1875 [==============================] - 59s 31ms/step - loss: 0.0195 - accuracy: 0.9936\n",
            "Epoch 42/50\n",
            "1875/1875 [==============================] - 59s 31ms/step - loss: 0.0171 - accuracy: 0.9941\n",
            "Epoch 43/50\n",
            "1875/1875 [==============================] - 59s 32ms/step - loss: 0.0187 - accuracy: 0.9941\n",
            "Epoch 44/50\n",
            "1875/1875 [==============================] - 59s 31ms/step - loss: 0.0181 - accuracy: 0.9938\n",
            "Epoch 45/50\n",
            "1875/1875 [==============================] - 59s 31ms/step - loss: 0.0189 - accuracy: 0.9938\n",
            "Epoch 46/50\n",
            "1875/1875 [==============================] - 59s 31ms/step - loss: 0.0148 - accuracy: 0.9951\n",
            "Epoch 47/50\n",
            "1875/1875 [==============================] - 59s 31ms/step - loss: 0.0214 - accuracy: 0.9933\n",
            "Epoch 48/50\n",
            "1875/1875 [==============================] - 59s 31ms/step - loss: 0.0154 - accuracy: 0.9949\n",
            "Epoch 49/50\n",
            "1875/1875 [==============================] - 59s 31ms/step - loss: 0.0174 - accuracy: 0.9946\n",
            "Epoch 50/50\n",
            "1875/1875 [==============================] - 59s 31ms/step - loss: 0.0174 - accuracy: 0.9948\n",
            "313/313 [==============================] - 3s 9ms/step - loss: 0.9173 - accuracy: 0.9085\n"
          ]
        },
        {
          "output_type": "execute_result",
          "data": {
            "text/plain": [
              "[0.9172788858413696, 0.9085000157356262]"
            ]
          },
          "metadata": {},
          "execution_count": 1
        }
      ],
      "source": [
        "import tensorflow as tf\n",
        "from tensorflow.keras import Sequential\n",
        "from tensorflow.keras.layers import Dense\n",
        "\n",
        "data = tf.keras.datasets.fashion_mnist\n",
        "\n",
        "(training_images, training_labels),(test_images, test_labels) = data.load_data()\n",
        "\n",
        "training_images = training_images.reshape(60000, 28,28,1)\n",
        "training_images = training_images/255.0\n",
        "\n",
        "test_images = test_images.reshape(10000, 28,28,1)\n",
        "test_images = test_images / 255.0\n",
        "\n",
        "\n",
        "#64 convolutions, 3x3 filter size, (28,28,1) - image shape= 28x28, 1 - 3rd dimension (multicolor images)\n",
        "model = tf.keras.Sequential([tf.keras.layers.Conv2D(64,(3,3), activation = 'relu', input_shape = (28,28,1)), \n",
        "tf.keras.layers.MaxPooling2D(2,2),\n",
        "tf.keras.layers.Conv2D(64,(3,3), activation = 'relu'),\n",
        "tf.keras.layers.MaxPooling2D(2,2),\n",
        "tf.keras.layers.Flatten(),\n",
        "tf.keras.layers.Dense(128, activation = tf.nn.relu),\n",
        "tf.keras.layers.Dense(10, activation = tf.nn.softmax)\n",
        "])\n",
        "\n",
        "model.compile(optimizer = 'adam', loss = 'sparse_categorical_crossentropy', metrics = ['accuracy'])\n",
        "\n",
        "model.fit(training_images, training_labels, epochs = 50)\n",
        "\n",
        "model.evaluate(test_images, test_labels)\n",
        "\n",
        "\n",
        "\n"
      ]
    },
    {
      "cell_type": "code",
      "source": [
        "classifications = model.predict(test_images)\n",
        "print(classifications[0])\n",
        "print(test_labels[0])\n",
        "\n"
      ],
      "metadata": {
        "colab": {
          "base_uri": "https://localhost:8080/"
        },
        "id": "CvrMOPa2aMWw",
        "outputId": "1e2586bb-e527-4d3f-af49-6879c830cc79"
      },
      "execution_count": 2,
      "outputs": [
        {
          "output_type": "stream",
          "name": "stdout",
          "text": [
            "[8.0811058e-27 6.1031894e-22 6.7233276e-36 1.3615341e-24 1.7673894e-23\n",
            " 3.9219445e-17 7.4316769e-32 9.2342840e-23 9.2539222e-31 1.0000000e+00]\n",
            "9\n"
          ]
        }
      ]
    },
    {
      "cell_type": "code",
      "source": [
        "model.summary()"
      ],
      "metadata": {
        "id": "WlbkNcFmxItS",
        "colab": {
          "base_uri": "https://localhost:8080/"
        },
        "outputId": "058c28cb-0d29-43a0-8125-d4e2a878d9b3"
      },
      "execution_count": 3,
      "outputs": [
        {
          "output_type": "stream",
          "name": "stdout",
          "text": [
            "Model: \"sequential\"\n",
            "_________________________________________________________________\n",
            " Layer (type)                Output Shape              Param #   \n",
            "=================================================================\n",
            " conv2d (Conv2D)             (None, 26, 26, 64)        640       \n",
            "                                                                 \n",
            " max_pooling2d (MaxPooling2D  (None, 13, 13, 64)       0         \n",
            " )                                                               \n",
            "                                                                 \n",
            " conv2d_1 (Conv2D)           (None, 11, 11, 64)        36928     \n",
            "                                                                 \n",
            " max_pooling2d_1 (MaxPooling  (None, 5, 5, 64)         0         \n",
            " 2D)                                                             \n",
            "                                                                 \n",
            " flatten (Flatten)           (None, 1600)              0         \n",
            "                                                                 \n",
            " dense (Dense)               (None, 128)               204928    \n",
            "                                                                 \n",
            " dense_1 (Dense)             (None, 10)                1290      \n",
            "                                                                 \n",
            "=================================================================\n",
            "Total params: 243,786\n",
            "Trainable params: 243,786\n",
            "Non-trainable params: 0\n",
            "_________________________________________________________________\n"
          ]
        }
      ]
    },
    {
      "cell_type": "code",
      "source": [
        ""
      ],
      "metadata": {
        "id": "dgnime12HJQ-"
      },
      "execution_count": null,
      "outputs": []
    }
  ]
}