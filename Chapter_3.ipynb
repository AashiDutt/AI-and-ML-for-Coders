{
  "nbformat": 4,
  "nbformat_minor": 0,
  "metadata": {
    "colab": {
      "name": "Chapter 3.ipynb",
      "provenance": [],
      "authorship_tag": "ABX9TyNQU/JyOO4XX3nO6IobQIGU",
      "include_colab_link": true
    },
    "kernelspec": {
      "name": "python3",
      "display_name": "Python 3"
    },
    "language_info": {
      "name": "python"
    }
  },
  "cells": [
    {
      "cell_type": "markdown",
      "metadata": {
        "id": "view-in-github",
        "colab_type": "text"
      },
      "source": [
        "<a href=\"https://colab.research.google.com/github/AashiDutt/AI-and-ML-for-Coders/blob/main/Chapter_3.ipynb\" target=\"_parent\"><img src=\"https://colab.research.google.com/assets/colab-badge.svg\" alt=\"Open In Colab\"/></a>"
      ]
    },
    {
      "cell_type": "code",
      "execution_count": 1,
      "metadata": {
        "colab": {
          "base_uri": "https://localhost:8080/"
        },
        "id": "a1MmeEhLUkuX",
        "outputId": "37ba0074-e087-495f-df6a-79ddafd971a5"
      },
      "outputs": [
        {
          "output_type": "stream",
          "name": "stdout",
          "text": [
            "Downloading data from https://storage.googleapis.com/tensorflow/tf-keras-datasets/train-labels-idx1-ubyte.gz\n",
            "32768/29515 [=================================] - 0s 0us/step\n",
            "40960/29515 [=========================================] - 0s 0us/step\n",
            "Downloading data from https://storage.googleapis.com/tensorflow/tf-keras-datasets/train-images-idx3-ubyte.gz\n",
            "26427392/26421880 [==============================] - 1s 0us/step\n",
            "26435584/26421880 [==============================] - 1s 0us/step\n",
            "Downloading data from https://storage.googleapis.com/tensorflow/tf-keras-datasets/t10k-labels-idx1-ubyte.gz\n",
            "16384/5148 [===============================================================================================] - 0s 0us/step\n",
            "Downloading data from https://storage.googleapis.com/tensorflow/tf-keras-datasets/t10k-images-idx3-ubyte.gz\n",
            "4423680/4422102 [==============================] - 0s 0us/step\n",
            "4431872/4422102 [==============================] - 0s 0us/step\n",
            "Epoch 1/50\n",
            "1875/1875 [==============================] - 61s 32ms/step - loss: 0.4398 - accuracy: 0.8396\n",
            "Epoch 2/50\n",
            "1875/1875 [==============================] - 60s 32ms/step - loss: 0.2936 - accuracy: 0.8913\n",
            "Epoch 3/50\n",
            "1875/1875 [==============================] - 60s 32ms/step - loss: 0.2489 - accuracy: 0.9076\n",
            "Epoch 4/50\n",
            "1875/1875 [==============================] - 59s 32ms/step - loss: 0.2166 - accuracy: 0.9189\n",
            "Epoch 5/50\n",
            "1875/1875 [==============================] - 60s 32ms/step - loss: 0.1911 - accuracy: 0.9278\n",
            "Epoch 6/50\n",
            "1875/1875 [==============================] - 59s 32ms/step - loss: 0.1661 - accuracy: 0.9377\n",
            "Epoch 7/50\n",
            "1875/1875 [==============================] - 59s 32ms/step - loss: 0.1468 - accuracy: 0.9443\n",
            "Epoch 8/50\n",
            "1875/1875 [==============================] - 59s 32ms/step - loss: 0.1300 - accuracy: 0.9510\n",
            "Epoch 9/50\n",
            "1875/1875 [==============================] - 59s 32ms/step - loss: 0.1139 - accuracy: 0.9559\n",
            "Epoch 10/50\n",
            "1875/1875 [==============================] - 59s 32ms/step - loss: 0.1005 - accuracy: 0.9609\n",
            "Epoch 11/50\n",
            "1875/1875 [==============================] - 59s 32ms/step - loss: 0.0885 - accuracy: 0.9667\n",
            "Epoch 12/50\n",
            "1875/1875 [==============================] - 59s 31ms/step - loss: 0.0788 - accuracy: 0.9703\n",
            "Epoch 13/50\n",
            "1875/1875 [==============================] - 59s 31ms/step - loss: 0.0707 - accuracy: 0.9730\n",
            "Epoch 14/50\n",
            "1875/1875 [==============================] - 59s 31ms/step - loss: 0.0620 - accuracy: 0.9763\n",
            "Epoch 15/50\n",
            "1875/1875 [==============================] - 59s 32ms/step - loss: 0.0571 - accuracy: 0.9779\n",
            "Epoch 16/50\n",
            "1875/1875 [==============================] - 59s 31ms/step - loss: 0.0547 - accuracy: 0.9798\n",
            "Epoch 17/50\n",
            "1875/1875 [==============================] - 59s 32ms/step - loss: 0.0470 - accuracy: 0.9827\n",
            "Epoch 18/50\n",
            "1875/1875 [==============================] - 59s 31ms/step - loss: 0.0450 - accuracy: 0.9829\n",
            "Epoch 19/50\n",
            "1875/1875 [==============================] - 59s 32ms/step - loss: 0.0409 - accuracy: 0.9846\n",
            "Epoch 20/50\n",
            "1875/1875 [==============================] - 59s 32ms/step - loss: 0.0384 - accuracy: 0.9860\n",
            "Epoch 21/50\n",
            "1875/1875 [==============================] - 59s 31ms/step - loss: 0.0368 - accuracy: 0.9864\n",
            "Epoch 22/50\n",
            "1875/1875 [==============================] - 59s 31ms/step - loss: 0.0327 - accuracy: 0.9876\n",
            "Epoch 23/50\n",
            "1875/1875 [==============================] - 59s 31ms/step - loss: 0.0335 - accuracy: 0.9881\n",
            "Epoch 24/50\n",
            "1875/1875 [==============================] - 59s 31ms/step - loss: 0.0306 - accuracy: 0.9887\n",
            "Epoch 25/50\n",
            "1875/1875 [==============================] - 59s 32ms/step - loss: 0.0304 - accuracy: 0.9887\n",
            "Epoch 26/50\n",
            "1875/1875 [==============================] - 59s 31ms/step - loss: 0.0273 - accuracy: 0.9903\n",
            "Epoch 27/50\n",
            "1875/1875 [==============================] - 59s 31ms/step - loss: 0.0247 - accuracy: 0.9912\n",
            "Epoch 28/50\n",
            "1875/1875 [==============================] - 59s 31ms/step - loss: 0.0259 - accuracy: 0.9909\n",
            "Epoch 29/50\n",
            "1875/1875 [==============================] - 59s 31ms/step - loss: 0.0242 - accuracy: 0.9916\n",
            "Epoch 30/50\n",
            "1875/1875 [==============================] - 59s 32ms/step - loss: 0.0285 - accuracy: 0.9904\n",
            "Epoch 31/50\n",
            "1875/1875 [==============================] - 59s 31ms/step - loss: 0.0236 - accuracy: 0.9915\n",
            "Epoch 32/50\n",
            "1875/1875 [==============================] - 59s 31ms/step - loss: 0.0248 - accuracy: 0.9914\n",
            "Epoch 33/50\n",
            "1875/1875 [==============================] - 59s 31ms/step - loss: 0.0217 - accuracy: 0.9926\n",
            "Epoch 34/50\n",
            "1875/1875 [==============================] - 59s 31ms/step - loss: 0.0242 - accuracy: 0.9918\n",
            "Epoch 35/50\n",
            "1875/1875 [==============================] - 59s 31ms/step - loss: 0.0217 - accuracy: 0.9929\n",
            "Epoch 36/50\n",
            "1875/1875 [==============================] - 59s 31ms/step - loss: 0.0184 - accuracy: 0.9936\n",
            "Epoch 37/50\n",
            "1875/1875 [==============================] - 59s 31ms/step - loss: 0.0228 - accuracy: 0.9921\n",
            "Epoch 38/50\n",
            "1875/1875 [==============================] - 59s 31ms/step - loss: 0.0220 - accuracy: 0.9924\n",
            "Epoch 39/50\n",
            "1875/1875 [==============================] - 59s 31ms/step - loss: 0.0206 - accuracy: 0.9931\n",
            "Epoch 40/50\n",
            "1875/1875 [==============================] - 59s 31ms/step - loss: 0.0209 - accuracy: 0.9931\n",
            "Epoch 41/50\n",
            "1875/1875 [==============================] - 59s 31ms/step - loss: 0.0195 - accuracy: 0.9936\n",
            "Epoch 42/50\n",
            "1875/1875 [==============================] - 59s 31ms/step - loss: 0.0171 - accuracy: 0.9941\n",
            "Epoch 43/50\n",
            "1875/1875 [==============================] - 59s 32ms/step - loss: 0.0187 - accuracy: 0.9941\n",
            "Epoch 44/50\n",
            "1875/1875 [==============================] - 59s 31ms/step - loss: 0.0181 - accuracy: 0.9938\n",
            "Epoch 45/50\n",
            "1875/1875 [==============================] - 59s 31ms/step - loss: 0.0189 - accuracy: 0.9938\n",
            "Epoch 46/50\n",
            "1875/1875 [==============================] - 59s 31ms/step - loss: 0.0148 - accuracy: 0.9951\n",
            "Epoch 47/50\n",
            "1875/1875 [==============================] - 59s 31ms/step - loss: 0.0214 - accuracy: 0.9933\n",
            "Epoch 48/50\n",
            "1875/1875 [==============================] - 59s 31ms/step - loss: 0.0154 - accuracy: 0.9949\n",
            "Epoch 49/50\n",
            "1875/1875 [==============================] - 59s 31ms/step - loss: 0.0174 - accuracy: 0.9946\n",
            "Epoch 50/50\n",
            "1875/1875 [==============================] - 59s 31ms/step - loss: 0.0174 - accuracy: 0.9948\n",
            "313/313 [==============================] - 3s 9ms/step - loss: 0.9173 - accuracy: 0.9085\n"
          ]
        },
        {
          "output_type": "execute_result",
          "data": {
            "text/plain": [
              "[0.9172788858413696, 0.9085000157356262]"
            ]
          },
          "metadata": {},
          "execution_count": 1
        }
      ],
      "source": [
        "import tensorflow as tf\n",
        "from tensorflow.keras import Sequential\n",
        "from tensorflow.keras.layers import Dense\n",
        "\n",
        "data = tf.keras.datasets.fashion_mnist\n",
        "\n",
        "(training_images, training_labels),(test_images, test_labels) = data.load_data()\n",
        "\n",
        "training_images = training_images.reshape(60000, 28,28,1)\n",
        "training_images = training_images/255.0\n",
        "\n",
        "test_images = test_images.reshape(10000, 28,28,1)\n",
        "test_images = test_images / 255.0\n",
        "\n",
        "\n",
        "#64 convolutions, 3x3 filter size, (28,28,1) - image shape= 28x28, 1 - 3rd dimension (multicolor images)\n",
        "model = tf.keras.Sequential([tf.keras.layers.Conv2D(64,(3,3), activation = 'relu', input_shape = (28,28,1)), \n",
        "tf.keras.layers.MaxPooling2D(2,2),\n",
        "tf.keras.layers.Conv2D(64,(3,3), activation = 'relu'),\n",
        "tf.keras.layers.MaxPooling2D(2,2),\n",
        "tf.keras.layers.Flatten(),\n",
        "tf.keras.layers.Dense(128, activation = tf.nn.relu),\n",
        "tf.keras.layers.Dense(10, activation = tf.nn.softmax)\n",
        "])\n",
        "\n",
        "model.compile(optimizer = 'adam', loss = 'sparse_categorical_crossentropy', metrics = ['accuracy'])\n",
        "\n",
        "model.fit(training_images, training_labels, epochs = 50)\n",
        "\n",
        "model.evaluate(test_images, test_labels)\n",
        "\n",
        "\n",
        "\n"
      ]
    },
    {
      "cell_type": "code",
      "source": [
        "classifications = model.predict(test_images)\n",
        "print(classifications[0])\n",
        "print(test_labels[0])\n",
        "\n"
      ],
      "metadata": {
        "colab": {
          "base_uri": "https://localhost:8080/"
        },
        "id": "CvrMOPa2aMWw",
        "outputId": "1e2586bb-e527-4d3f-af49-6879c830cc79"
      },
      "execution_count": 2,
      "outputs": [
        {
          "output_type": "stream",
          "name": "stdout",
          "text": [
            "[8.0811058e-27 6.1031894e-22 6.7233276e-36 1.3615341e-24 1.7673894e-23\n",
            " 3.9219445e-17 7.4316769e-32 9.2342840e-23 9.2539222e-31 1.0000000e+00]\n",
            "9\n"
          ]
        }
      ]
    },
    {
      "cell_type": "code",
      "source": [
        "model.summary()"
      ],
      "metadata": {
        "id": "WlbkNcFmxItS",
        "colab": {
          "base_uri": "https://localhost:8080/"
        },
        "outputId": "058c28cb-0d29-43a0-8125-d4e2a878d9b3"
      },
      "execution_count": 3,
      "outputs": [
        {
          "output_type": "stream",
          "name": "stdout",
          "text": [
            "Model: \"sequential\"\n",
            "_________________________________________________________________\n",
            " Layer (type)                Output Shape              Param #   \n",
            "=================================================================\n",
            " conv2d (Conv2D)             (None, 26, 26, 64)        640       \n",
            "                                                                 \n",
            " max_pooling2d (MaxPooling2D  (None, 13, 13, 64)       0         \n",
            " )                                                               \n",
            "                                                                 \n",
            " conv2d_1 (Conv2D)           (None, 11, 11, 64)        36928     \n",
            "                                                                 \n",
            " max_pooling2d_1 (MaxPooling  (None, 5, 5, 64)         0         \n",
            " 2D)                                                             \n",
            "                                                                 \n",
            " flatten (Flatten)           (None, 1600)              0         \n",
            "                                                                 \n",
            " dense (Dense)               (None, 128)               204928    \n",
            "                                                                 \n",
            " dense_1 (Dense)             (None, 10)                1290      \n",
            "                                                                 \n",
            "=================================================================\n",
            "Total params: 243,786\n",
            "Trainable params: 243,786\n",
            "Non-trainable params: 0\n",
            "_________________________________________________________________\n"
          ]
        }
      ]
    },
    {
      "cell_type": "code",
      "source": [
        "import urllib.request\n",
        "import zipfile"
      ],
      "metadata": {
        "id": "dgnime12HJQ-"
      },
      "execution_count": 1,
      "outputs": []
    },
    {
      "cell_type": "code",
      "source": [
        "url = \"https://storage.googleapis.com/laurencemoroney-blog.appspot.com/horse-or-human.zip\"\n",
        "\n",
        "file_name = \"horse-or-human.zip\" #downloads zip file\n",
        "training_dir = 'horse-or-human/training/' #unzips it into a directory of training data(Parent directory)\n",
        "urllib.request.urlretrieve(url, file_name)\n",
        "\n",
        "zip_ref = zipfile.ZipFile(file_name, 'r')\n",
        "zip_ref.extractall(training_dir)\n",
        "zip_ref.close()"
      ],
      "metadata": {
        "id": "3PL2XKU_8fs-"
      },
      "execution_count": 3,
      "outputs": []
    },
    {
      "cell_type": "markdown",
      "source": [
        "Training Data - 1000+ images of 300 x 300 pixels\n",
        "\n",
        "Validation Data - 256 images of 300 x 300 pixels"
      ],
      "metadata": {
        "id": "lolqVk3gF7Dx"
      }
    },
    {
      "cell_type": "code",
      "source": [
        "#To use ImageDataGenerator \n",
        "\n",
        "from tensorflow.keras.preprocessing.image import ImageDataGenerator\n",
        "\n",
        "train_datagen = ImageDataGenerator(rescale = 1/ 255) #instance for ImageDataGenerator\n",
        "\n",
        "#generating training images\n",
        "train_generator = train_datagen.flow_from_directory(training_dir, \n",
        "                                                    target_size = (300,300), \n",
        "                                                    class_mode = 'binary')"
      ],
      "metadata": {
        "colab": {
          "base_uri": "https://localhost:8080/"
        },
        "id": "toRJPcHE9A7F",
        "outputId": "78187552-21c5-4fab-a2cb-f05845ea3aa3"
      },
      "execution_count": 5,
      "outputs": [
        {
          "output_type": "stream",
          "name": "stdout",
          "text": [
            "Found 1027 images belonging to 2 classes.\n"
          ]
        }
      ]
    },
    {
      "cell_type": "code",
      "source": [
        "import tensorflow as tf\n",
        "from tensorflow.keras import Sequential\n",
        "from tensorflow.keras.layers import Dense\n",
        "from tensorflow.keras import optimizers"
      ],
      "metadata": {
        "id": "rQk2mAtOH2Mv"
      },
      "execution_count": 19,
      "outputs": []
    },
    {
      "cell_type": "code",
      "source": [
        "# CNN Architecture\n",
        "# More layers needed - larger images (300 x 300 pixels)\n",
        "# Images are colored - 3 channels (R, G, B)\n",
        "# Binary classifier can be implemented with just 1 output neuron (output = 0 or 1)\n",
        "\n",
        "model = tf.keras.models.Sequential([\n",
        "          tf.keras.layers.Conv2D(16,(3,3), activation = 'relu', input_shape = (300,300, 3)),\n",
        "          tf.keras.layers.MaxPooling2D(2,2), #needs no parameters - only gives max pixels to next layer\n",
        "          tf.keras.layers.Conv2D(32,(3,3), activation = 'relu'),\n",
        "          tf.keras.layers.MaxPooling2D(2,2),\n",
        "          tf.keras.layers.Conv2D(32,(3,3), activation = 'relu'),\n",
        "          tf.keras.layers.MaxPooling2D(2,2),\n",
        "          tf.keras.layers.Conv2D(32,(3,3), activation = 'relu'),\n",
        "          tf.keras.layers.MaxPooling2D(2,2),\n",
        "          tf.keras.layers.Conv2D(32,(3,3), activation = 'relu'),\n",
        "          tf.keras.layers.MaxPooling2D(2,2),\n",
        "          tf.keras.layers.Flatten(),\n",
        "          tf.keras.layers.Dense(512, activation = 'relu'),\n",
        "          tf.keras.layers.Dense(1, activation = 'sigmoid')\n",
        "\n",
        "])"
      ],
      "metadata": {
        "id": "AnfcDTrHGjnu"
      },
      "execution_count": 8,
      "outputs": []
    },
    {
      "cell_type": "code",
      "source": [
        "model.summary()"
      ],
      "metadata": {
        "colab": {
          "base_uri": "https://localhost:8080/"
        },
        "id": "e9fSZJkGJBXn",
        "outputId": "f3ab83a3-8582-47cd-fa06-8bf02fc76454"
      },
      "execution_count": 9,
      "outputs": [
        {
          "output_type": "stream",
          "name": "stdout",
          "text": [
            "Model: \"sequential\"\n",
            "_________________________________________________________________\n",
            " Layer (type)                Output Shape              Param #   \n",
            "=================================================================\n",
            " conv2d_1 (Conv2D)           (None, 298, 298, 16)      448       \n",
            "                                                                 \n",
            " max_pooling2d_1 (MaxPooling  (None, 149, 149, 16)     0         \n",
            " 2D)                                                             \n",
            "                                                                 \n",
            " conv2d_2 (Conv2D)           (None, 147, 147, 32)      4640      \n",
            "                                                                 \n",
            " max_pooling2d_2 (MaxPooling  (None, 73, 73, 32)       0         \n",
            " 2D)                                                             \n",
            "                                                                 \n",
            " conv2d_3 (Conv2D)           (None, 71, 71, 32)        9248      \n",
            "                                                                 \n",
            " max_pooling2d_3 (MaxPooling  (None, 35, 35, 32)       0         \n",
            " 2D)                                                             \n",
            "                                                                 \n",
            " conv2d_4 (Conv2D)           (None, 33, 33, 32)        9248      \n",
            "                                                                 \n",
            " max_pooling2d_4 (MaxPooling  (None, 16, 16, 32)       0         \n",
            " 2D)                                                             \n",
            "                                                                 \n",
            " conv2d_5 (Conv2D)           (None, 14, 14, 32)        9248      \n",
            "                                                                 \n",
            " max_pooling2d_5 (MaxPooling  (None, 7, 7, 32)         0         \n",
            " 2D)                                                             \n",
            "                                                                 \n",
            " flatten (Flatten)           (None, 1568)              0         \n",
            "                                                                 \n",
            " dense (Dense)               (None, 512)               803328    \n",
            "                                                                 \n",
            " dense_1 (Dense)             (None, 1)                 513       \n",
            "                                                                 \n",
            "=================================================================\n",
            "Total params: 836,673\n",
            "Trainable params: 836,673\n",
            "Non-trainable params: 0\n",
            "_________________________________________________________________\n"
          ]
        }
      ]
    },
    {
      "cell_type": "code",
      "source": [
        "model.compile(loss='binary_crossentropy',\n",
        "       optimizer= tf.keras.optimizers.RMSprop(lr = 0.001),\n",
        "       metrics=['accuracy'])\n",
        "\n",
        "history = model.fit(train_generator, epochs = 15)"
      ],
      "metadata": {
        "colab": {
          "base_uri": "https://localhost:8080/"
        },
        "id": "TyoADz_yJH5W",
        "outputId": "d2b9df66-b42c-4544-8e39-1bdf96c82feb"
      },
      "execution_count": 20,
      "outputs": [
        {
          "output_type": "stream",
          "name": "stderr",
          "text": [
            "/usr/local/lib/python3.7/dist-packages/keras/optimizer_v2/rmsprop.py:130: UserWarning: The `lr` argument is deprecated, use `learning_rate` instead.\n",
            "  super(RMSprop, self).__init__(name, **kwargs)\n"
          ]
        },
        {
          "output_type": "stream",
          "name": "stdout",
          "text": [
            "Epoch 1/15\n",
            "33/33 [==============================] - 79s 2s/step - loss: 0.6065 - accuracy: 0.6981\n",
            "Epoch 2/15\n",
            "33/33 [==============================] - 77s 2s/step - loss: 0.2665 - accuracy: 0.8919\n",
            "Epoch 3/15\n",
            "33/33 [==============================] - 77s 2s/step - loss: 0.1027 - accuracy: 0.9611\n",
            "Epoch 4/15\n",
            "33/33 [==============================] - 77s 2s/step - loss: 0.1125 - accuracy: 0.9679\n",
            "Epoch 5/15\n",
            "33/33 [==============================] - 78s 2s/step - loss: 0.1539 - accuracy: 0.9572\n",
            "Epoch 6/15\n",
            "33/33 [==============================] - 77s 2s/step - loss: 0.0257 - accuracy: 0.9922\n",
            "Epoch 7/15\n",
            "33/33 [==============================] - 77s 2s/step - loss: 0.2029 - accuracy: 0.9727\n",
            "Epoch 8/15\n",
            "33/33 [==============================] - 78s 2s/step - loss: 0.0029 - accuracy: 1.0000\n",
            "Epoch 9/15\n",
            "33/33 [==============================] - 78s 2s/step - loss: 0.1500 - accuracy: 0.9727\n",
            "Epoch 10/15\n",
            "33/33 [==============================] - 77s 2s/step - loss: 0.0921 - accuracy: 0.9825\n",
            "Epoch 11/15\n",
            "33/33 [==============================] - 77s 2s/step - loss: 0.0414 - accuracy: 0.9883\n",
            "Epoch 12/15\n",
            "33/33 [==============================] - 77s 2s/step - loss: 0.0011 - accuracy: 1.0000\n",
            "Epoch 13/15\n",
            "33/33 [==============================] - 78s 2s/step - loss: 1.8442e-04 - accuracy: 1.0000\n",
            "Epoch 14/15\n",
            "33/33 [==============================] - 78s 2s/step - loss: 0.3399 - accuracy: 0.9815\n",
            "Epoch 15/15\n",
            "33/33 [==============================] - 78s 2s/step - loss: 3.3049e-04 - accuracy: 1.0000\n"
          ]
        }
      ]
    },
    {
      "cell_type": "code",
      "source": [
        "# Generating Validation images\n",
        "validation_url = \"https://storage.googleapis.com/laurencemoroney-blog.appspot.com/validation-horse-or-human.zip\"\n",
        "\n",
        "validation_file_name = \"validation-horse-or-human.zip\"\n",
        "validation_dir = 'horse-or-human/validation/'\n",
        "urllib.request.urlretrieve(validation_url, validation_file_name)\n",
        "\n",
        "zip_ref = zipfile.ZipFile(validation_file_name, 'r')\n",
        "zip_ref.extractall(validation_dir)\n",
        "zip_ref.close()\n"
      ],
      "metadata": {
        "id": "g0wP-F8tN-UO"
      },
      "execution_count": 24,
      "outputs": []
    },
    {
      "cell_type": "code",
      "source": [
        "#ImageData Generator\n",
        "\n",
        "validation_datagen = ImageDataGenerator(rescale=1/255)\n",
        "\n",
        "validation_generator = train_datagen.flow_from_directory(validation_dir,\n",
        "                                                         target_size= (300,300),\n",
        "                                                         class_mode = 'binary')\n",
        "\n"
      ],
      "metadata": {
        "colab": {
          "base_uri": "https://localhost:8080/"
        },
        "id": "uC-CHi15Q7Ml",
        "outputId": "ca8dafb9-b5d2-48a6-9fb5-19d39321b195"
      },
      "execution_count": 25,
      "outputs": [
        {
          "output_type": "stream",
          "name": "stdout",
          "text": [
            "Found 256 images belonging to 2 classes.\n"
          ]
        }
      ]
    },
    {
      "cell_type": "code",
      "source": [
        "#Update history\n",
        "\n",
        "history = model.fit(train_generator, epochs = 15,\n",
        "                    validation_data = validation_generator)"
      ],
      "metadata": {
        "colab": {
          "base_uri": "https://localhost:8080/"
        },
        "id": "3dVhgjTrRQKR",
        "outputId": "2b55f7e6-8296-4f91-98b0-8c54da903ff9"
      },
      "execution_count": 26,
      "outputs": [
        {
          "output_type": "stream",
          "name": "stdout",
          "text": [
            "Epoch 1/15\n",
            "33/33 [==============================] - 84s 3s/step - loss: 1.4558e-04 - accuracy: 1.0000 - val_loss: 4.6294 - val_accuracy: 0.7930\n",
            "Epoch 2/15\n",
            "33/33 [==============================] - 84s 3s/step - loss: 1.7866e-05 - accuracy: 1.0000 - val_loss: 3.9444 - val_accuracy: 0.8047\n",
            "Epoch 3/15\n",
            "33/33 [==============================] - 84s 3s/step - loss: 0.0394 - accuracy: 0.9903 - val_loss: 3.3843 - val_accuracy: 0.8164\n",
            "Epoch 4/15\n",
            "33/33 [==============================] - 86s 3s/step - loss: 2.0917e-04 - accuracy: 1.0000 - val_loss: 2.8400 - val_accuracy: 0.8164\n",
            "Epoch 5/15\n",
            "33/33 [==============================] - 84s 3s/step - loss: 3.9531e-05 - accuracy: 1.0000 - val_loss: 3.0437 - val_accuracy: 0.8164\n",
            "Epoch 6/15\n",
            "33/33 [==============================] - 84s 3s/step - loss: 8.5708e-06 - accuracy: 1.0000 - val_loss: 3.6508 - val_accuracy: 0.8125\n",
            "Epoch 7/15\n",
            "33/33 [==============================] - 84s 3s/step - loss: 0.2541 - accuracy: 0.9796 - val_loss: 2.1373 - val_accuracy: 0.8203\n",
            "Epoch 8/15\n",
            "33/33 [==============================] - 83s 3s/step - loss: 0.0126 - accuracy: 0.9961 - val_loss: 4.3074 - val_accuracy: 0.7070\n",
            "Epoch 9/15\n",
            "33/33 [==============================] - 85s 3s/step - loss: 8.2444e-04 - accuracy: 1.0000 - val_loss: 3.0144 - val_accuracy: 0.8164\n",
            "Epoch 10/15\n",
            "33/33 [==============================] - 84s 3s/step - loss: 3.3880e-05 - accuracy: 1.0000 - val_loss: 3.5930 - val_accuracy: 0.8086\n",
            "Epoch 11/15\n",
            "33/33 [==============================] - 84s 3s/step - loss: 9.0528e-06 - accuracy: 1.0000 - val_loss: 4.2556 - val_accuracy: 0.8047\n",
            "Epoch 12/15\n",
            "33/33 [==============================] - 84s 3s/step - loss: 1.5085e-06 - accuracy: 1.0000 - val_loss: 4.9306 - val_accuracy: 0.8047\n",
            "Epoch 13/15\n",
            "33/33 [==============================] - 85s 3s/step - loss: 3.6634e-07 - accuracy: 1.0000 - val_loss: 5.4739 - val_accuracy: 0.8047\n",
            "Epoch 14/15\n",
            "33/33 [==============================] - 84s 3s/step - loss: 3.3029e-08 - accuracy: 1.0000 - val_loss: 5.9341 - val_accuracy: 0.8047\n",
            "Epoch 15/15\n",
            "33/33 [==============================] - 84s 3s/step - loss: 9.8439e-09 - accuracy: 1.0000 - val_loss: 5.7842 - val_accuracy: 0.8047\n"
          ]
        }
      ]
    },
    {
      "cell_type": "markdown",
      "source": [
        "Training accuracy = 99%\n",
        "\n",
        "Validation accuracy = 80%\n",
        "\n",
        "Model is overfitting."
      ],
      "metadata": {
        "id": "omyEZypvRg2m"
      }
    },
    {
      "cell_type": "code",
      "source": [
        "# uploading testing images\n",
        "\n",
        "import numpy as np\n",
        "from google.colab import files\n",
        "from keras.preprocessing import image\n",
        "\n",
        "uploaded = files.upload()\n",
        "\n",
        "for fn in uploaded.keys():\n",
        "\n",
        "  #predicting images\n",
        "  path = '/content/' + fn\n",
        "  img = image.load_img(path, target_size = (300, 300)) # converts shape of input image to 300 x 300(input of model)\n",
        "  x = image.img_to_array(img) # convert image to 2D array but we need 3D array\n",
        "  x = np.expand_dims(x, axis = 0) # this takes care of that\n",
        "\n",
        "  image_tensor = np.vstack([x])\n",
        "\n",
        "  classes = model.predict(image_tensor) # model returns array containing classifications\n",
        "\n",
        "  print(classes)\n",
        "  print(classes[0])\n",
        "  if classes[0] > 0.5:\n",
        "    print(fn + \"is a human\")\n",
        "\n",
        "  else:\n",
        "    print(fn + \"is a horse\")"
      ],
      "metadata": {
        "colab": {
          "resources": {
            "http://localhost:8080/nbextensions/google.colab/files.js": {
              "data": "Ly8gQ29weXJpZ2h0IDIwMTcgR29vZ2xlIExMQwovLwovLyBMaWNlbnNlZCB1bmRlciB0aGUgQXBhY2hlIExpY2Vuc2UsIFZlcnNpb24gMi4wICh0aGUgIkxpY2Vuc2UiKTsKLy8geW91IG1heSBub3QgdXNlIHRoaXMgZmlsZSBleGNlcHQgaW4gY29tcGxpYW5jZSB3aXRoIHRoZSBMaWNlbnNlLgovLyBZb3UgbWF5IG9idGFpbiBhIGNvcHkgb2YgdGhlIExpY2Vuc2UgYXQKLy8KLy8gICAgICBodHRwOi8vd3d3LmFwYWNoZS5vcmcvbGljZW5zZXMvTElDRU5TRS0yLjAKLy8KLy8gVW5sZXNzIHJlcXVpcmVkIGJ5IGFwcGxpY2FibGUgbGF3IG9yIGFncmVlZCB0byBpbiB3cml0aW5nLCBzb2Z0d2FyZQovLyBkaXN0cmlidXRlZCB1bmRlciB0aGUgTGljZW5zZSBpcyBkaXN0cmlidXRlZCBvbiBhbiAiQVMgSVMiIEJBU0lTLAovLyBXSVRIT1VUIFdBUlJBTlRJRVMgT1IgQ09ORElUSU9OUyBPRiBBTlkgS0lORCwgZWl0aGVyIGV4cHJlc3Mgb3IgaW1wbGllZC4KLy8gU2VlIHRoZSBMaWNlbnNlIGZvciB0aGUgc3BlY2lmaWMgbGFuZ3VhZ2UgZ292ZXJuaW5nIHBlcm1pc3Npb25zIGFuZAovLyBsaW1pdGF0aW9ucyB1bmRlciB0aGUgTGljZW5zZS4KCi8qKgogKiBAZmlsZW92ZXJ2aWV3IEhlbHBlcnMgZm9yIGdvb2dsZS5jb2xhYiBQeXRob24gbW9kdWxlLgogKi8KKGZ1bmN0aW9uKHNjb3BlKSB7CmZ1bmN0aW9uIHNwYW4odGV4dCwgc3R5bGVBdHRyaWJ1dGVzID0ge30pIHsKICBjb25zdCBlbGVtZW50ID0gZG9jdW1lbnQuY3JlYXRlRWxlbWVudCgnc3BhbicpOwogIGVsZW1lbnQudGV4dENvbnRlbnQgPSB0ZXh0OwogIGZvciAoY29uc3Qga2V5IG9mIE9iamVjdC5rZXlzKHN0eWxlQXR0cmlidXRlcykpIHsKICAgIGVsZW1lbnQuc3R5bGVba2V5XSA9IHN0eWxlQXR0cmlidXRlc1trZXldOwogIH0KICByZXR1cm4gZWxlbWVudDsKfQoKLy8gTWF4IG51bWJlciBvZiBieXRlcyB3aGljaCB3aWxsIGJlIHVwbG9hZGVkIGF0IGEgdGltZS4KY29uc3QgTUFYX1BBWUxPQURfU0laRSA9IDEwMCAqIDEwMjQ7CgpmdW5jdGlvbiBfdXBsb2FkRmlsZXMoaW5wdXRJZCwgb3V0cHV0SWQpIHsKICBjb25zdCBzdGVwcyA9IHVwbG9hZEZpbGVzU3RlcChpbnB1dElkLCBvdXRwdXRJZCk7CiAgY29uc3Qgb3V0cHV0RWxlbWVudCA9IGRvY3VtZW50LmdldEVsZW1lbnRCeUlkKG91dHB1dElkKTsKICAvLyBDYWNoZSBzdGVwcyBvbiB0aGUgb3V0cHV0RWxlbWVudCB0byBtYWtlIGl0IGF2YWlsYWJsZSBmb3IgdGhlIG5leHQgY2FsbAogIC8vIHRvIHVwbG9hZEZpbGVzQ29udGludWUgZnJvbSBQeXRob24uCiAgb3V0cHV0RWxlbWVudC5zdGVwcyA9IHN0ZXBzOwoKICByZXR1cm4gX3VwbG9hZEZpbGVzQ29udGludWUob3V0cHV0SWQpOwp9CgovLyBUaGlzIGlzIHJvdWdobHkgYW4gYXN5bmMgZ2VuZXJhdG9yIChub3Qgc3VwcG9ydGVkIGluIHRoZSBicm93c2VyIHlldCksCi8vIHdoZXJlIHRoZXJlIGFyZSBtdWx0aXBsZSBhc3luY2hyb25vdXMgc3RlcHMgYW5kIHRoZSBQeXRob24gc2lkZSBpcyBnb2luZwovLyB0byBwb2xsIGZvciBjb21wbGV0aW9uIG9mIGVhY2ggc3RlcC4KLy8gVGhpcyB1c2VzIGEgUHJvbWlzZSB0byBibG9jayB0aGUgcHl0aG9uIHNpZGUgb24gY29tcGxldGlvbiBvZiBlYWNoIHN0ZXAsCi8vIHRoZW4gcGFzc2VzIHRoZSByZXN1bHQgb2YgdGhlIHByZXZpb3VzIHN0ZXAgYXMgdGhlIGlucHV0IHRvIHRoZSBuZXh0IHN0ZXAuCmZ1bmN0aW9uIF91cGxvYWRGaWxlc0NvbnRpbnVlKG91dHB1dElkKSB7CiAgY29uc3Qgb3V0cHV0RWxlbWVudCA9IGRvY3VtZW50LmdldEVsZW1lbnRCeUlkKG91dHB1dElkKTsKICBjb25zdCBzdGVwcyA9IG91dHB1dEVsZW1lbnQuc3RlcHM7CgogIGNvbnN0IG5leHQgPSBzdGVwcy5uZXh0KG91dHB1dEVsZW1lbnQubGFzdFByb21pc2VWYWx1ZSk7CiAgcmV0dXJuIFByb21pc2UucmVzb2x2ZShuZXh0LnZhbHVlLnByb21pc2UpLnRoZW4oKHZhbHVlKSA9PiB7CiAgICAvLyBDYWNoZSB0aGUgbGFzdCBwcm9taXNlIHZhbHVlIHRvIG1ha2UgaXQgYXZhaWxhYmxlIHRvIHRoZSBuZXh0CiAgICAvLyBzdGVwIG9mIHRoZSBnZW5lcmF0b3IuCiAgICBvdXRwdXRFbGVtZW50Lmxhc3RQcm9taXNlVmFsdWUgPSB2YWx1ZTsKICAgIHJldHVybiBuZXh0LnZhbHVlLnJlc3BvbnNlOwogIH0pOwp9CgovKioKICogR2VuZXJhdG9yIGZ1bmN0aW9uIHdoaWNoIGlzIGNhbGxlZCBiZXR3ZWVuIGVhY2ggYXN5bmMgc3RlcCBvZiB0aGUgdXBsb2FkCiAqIHByb2Nlc3MuCiAqIEBwYXJhbSB7c3RyaW5nfSBpbnB1dElkIEVsZW1lbnQgSUQgb2YgdGhlIGlucHV0IGZpbGUgcGlja2VyIGVsZW1lbnQuCiAqIEBwYXJhbSB7c3RyaW5nfSBvdXRwdXRJZCBFbGVtZW50IElEIG9mIHRoZSBvdXRwdXQgZGlzcGxheS4KICogQHJldHVybiB7IUl0ZXJhYmxlPCFPYmplY3Q+fSBJdGVyYWJsZSBvZiBuZXh0IHN0ZXBzLgogKi8KZnVuY3Rpb24qIHVwbG9hZEZpbGVzU3RlcChpbnB1dElkLCBvdXRwdXRJZCkgewogIGNvbnN0IGlucHV0RWxlbWVudCA9IGRvY3VtZW50LmdldEVsZW1lbnRCeUlkKGlucHV0SWQpOwogIGlucHV0RWxlbWVudC5kaXNhYmxlZCA9IGZhbHNlOwoKICBjb25zdCBvdXRwdXRFbGVtZW50ID0gZG9jdW1lbnQuZ2V0RWxlbWVudEJ5SWQob3V0cHV0SWQpOwogIG91dHB1dEVsZW1lbnQuaW5uZXJIVE1MID0gJyc7CgogIGNvbnN0IHBpY2tlZFByb21pc2UgPSBuZXcgUHJvbWlzZSgocmVzb2x2ZSkgPT4gewogICAgaW5wdXRFbGVtZW50LmFkZEV2ZW50TGlzdGVuZXIoJ2NoYW5nZScsIChlKSA9PiB7CiAgICAgIHJlc29sdmUoZS50YXJnZXQuZmlsZXMpOwogICAgfSk7CiAgfSk7CgogIGNvbnN0IGNhbmNlbCA9IGRvY3VtZW50LmNyZWF0ZUVsZW1lbnQoJ2J1dHRvbicpOwogIGlucHV0RWxlbWVudC5wYXJlbnRFbGVtZW50LmFwcGVuZENoaWxkKGNhbmNlbCk7CiAgY2FuY2VsLnRleHRDb250ZW50ID0gJ0NhbmNlbCB1cGxvYWQnOwogIGNvbnN0IGNhbmNlbFByb21pc2UgPSBuZXcgUHJvbWlzZSgocmVzb2x2ZSkgPT4gewogICAgY2FuY2VsLm9uY2xpY2sgPSAoKSA9PiB7CiAgICAgIHJlc29sdmUobnVsbCk7CiAgICB9OwogIH0pOwoKICAvLyBXYWl0IGZvciB0aGUgdXNlciB0byBwaWNrIHRoZSBmaWxlcy4KICBjb25zdCBmaWxlcyA9IHlpZWxkIHsKICAgIHByb21pc2U6IFByb21pc2UucmFjZShbcGlja2VkUHJvbWlzZSwgY2FuY2VsUHJvbWlzZV0pLAogICAgcmVzcG9uc2U6IHsKICAgICAgYWN0aW9uOiAnc3RhcnRpbmcnLAogICAgfQogIH07CgogIGNhbmNlbC5yZW1vdmUoKTsKCiAgLy8gRGlzYWJsZSB0aGUgaW5wdXQgZWxlbWVudCBzaW5jZSBmdXJ0aGVyIHBpY2tzIGFyZSBub3QgYWxsb3dlZC4KICBpbnB1dEVsZW1lbnQuZGlzYWJsZWQgPSB0cnVlOwoKICBpZiAoIWZpbGVzKSB7CiAgICByZXR1cm4gewogICAgICByZXNwb25zZTogewogICAgICAgIGFjdGlvbjogJ2NvbXBsZXRlJywKICAgICAgfQogICAgfTsKICB9CgogIGZvciAoY29uc3QgZmlsZSBvZiBmaWxlcykgewogICAgY29uc3QgbGkgPSBkb2N1bWVudC5jcmVhdGVFbGVtZW50KCdsaScpOwogICAgbGkuYXBwZW5kKHNwYW4oZmlsZS5uYW1lLCB7Zm9udFdlaWdodDogJ2JvbGQnfSkpOwogICAgbGkuYXBwZW5kKHNwYW4oCiAgICAgICAgYCgke2ZpbGUudHlwZSB8fCAnbi9hJ30pIC0gJHtmaWxlLnNpemV9IGJ5dGVzLCBgICsKICAgICAgICBgbGFzdCBtb2RpZmllZDogJHsKICAgICAgICAgICAgZmlsZS5sYXN0TW9kaWZpZWREYXRlID8gZmlsZS5sYXN0TW9kaWZpZWREYXRlLnRvTG9jYWxlRGF0ZVN0cmluZygpIDoKICAgICAgICAgICAgICAgICAgICAgICAgICAgICAgICAgICAgJ24vYSd9IC0gYCkpOwogICAgY29uc3QgcGVyY2VudCA9IHNwYW4oJzAlIGRvbmUnKTsKICAgIGxpLmFwcGVuZENoaWxkKHBlcmNlbnQpOwoKICAgIG91dHB1dEVsZW1lbnQuYXBwZW5kQ2hpbGQobGkpOwoKICAgIGNvbnN0IGZpbGVEYXRhUHJvbWlzZSA9IG5ldyBQcm9taXNlKChyZXNvbHZlKSA9PiB7CiAgICAgIGNvbnN0IHJlYWRlciA9IG5ldyBGaWxlUmVhZGVyKCk7CiAgICAgIHJlYWRlci5vbmxvYWQgPSAoZSkgPT4gewogICAgICAgIHJlc29sdmUoZS50YXJnZXQucmVzdWx0KTsKICAgICAgfTsKICAgICAgcmVhZGVyLnJlYWRBc0FycmF5QnVmZmVyKGZpbGUpOwogICAgfSk7CiAgICAvLyBXYWl0IGZvciB0aGUgZGF0YSB0byBiZSByZWFkeS4KICAgIGxldCBmaWxlRGF0YSA9IHlpZWxkIHsKICAgICAgcHJvbWlzZTogZmlsZURhdGFQcm9taXNlLAogICAgICByZXNwb25zZTogewogICAgICAgIGFjdGlvbjogJ2NvbnRpbnVlJywKICAgICAgfQogICAgfTsKCiAgICAvLyBVc2UgYSBjaHVua2VkIHNlbmRpbmcgdG8gYXZvaWQgbWVzc2FnZSBzaXplIGxpbWl0cy4gU2VlIGIvNjIxMTU2NjAuCiAgICBsZXQgcG9zaXRpb24gPSAwOwogICAgZG8gewogICAgICBjb25zdCBsZW5ndGggPSBNYXRoLm1pbihmaWxlRGF0YS5ieXRlTGVuZ3RoIC0gcG9zaXRpb24sIE1BWF9QQVlMT0FEX1NJWkUpOwogICAgICBjb25zdCBjaHVuayA9IG5ldyBVaW50OEFycmF5KGZpbGVEYXRhLCBwb3NpdGlvbiwgbGVuZ3RoKTsKICAgICAgcG9zaXRpb24gKz0gbGVuZ3RoOwoKICAgICAgY29uc3QgYmFzZTY0ID0gYnRvYShTdHJpbmcuZnJvbUNoYXJDb2RlLmFwcGx5KG51bGwsIGNodW5rKSk7CiAgICAgIHlpZWxkIHsKICAgICAgICByZXNwb25zZTogewogICAgICAgICAgYWN0aW9uOiAnYXBwZW5kJywKICAgICAgICAgIGZpbGU6IGZpbGUubmFtZSwKICAgICAgICAgIGRhdGE6IGJhc2U2NCwKICAgICAgICB9LAogICAgICB9OwoKICAgICAgbGV0IHBlcmNlbnREb25lID0gZmlsZURhdGEuYnl0ZUxlbmd0aCA9PT0gMCA/CiAgICAgICAgICAxMDAgOgogICAgICAgICAgTWF0aC5yb3VuZCgocG9zaXRpb24gLyBmaWxlRGF0YS5ieXRlTGVuZ3RoKSAqIDEwMCk7CiAgICAgIHBlcmNlbnQudGV4dENvbnRlbnQgPSBgJHtwZXJjZW50RG9uZX0lIGRvbmVgOwoKICAgIH0gd2hpbGUgKHBvc2l0aW9uIDwgZmlsZURhdGEuYnl0ZUxlbmd0aCk7CiAgfQoKICAvLyBBbGwgZG9uZS4KICB5aWVsZCB7CiAgICByZXNwb25zZTogewogICAgICBhY3Rpb246ICdjb21wbGV0ZScsCiAgICB9CiAgfTsKfQoKc2NvcGUuZ29vZ2xlID0gc2NvcGUuZ29vZ2xlIHx8IHt9OwpzY29wZS5nb29nbGUuY29sYWIgPSBzY29wZS5nb29nbGUuY29sYWIgfHwge307CnNjb3BlLmdvb2dsZS5jb2xhYi5fZmlsZXMgPSB7CiAgX3VwbG9hZEZpbGVzLAogIF91cGxvYWRGaWxlc0NvbnRpbnVlLAp9Owp9KShzZWxmKTsK",
              "ok": true,
              "headers": [
                [
                  "content-type",
                  "application/javascript"
                ]
              ],
              "status": 200,
              "status_text": ""
            }
          },
          "base_uri": "https://localhost:8080/",
          "height": 309
        },
        "id": "7yvaDukaRos-",
        "outputId": "508f3049-1097-49f1-c924-dec3fcc9f8bf"
      },
      "execution_count": 27,
      "outputs": [
        {
          "output_type": "display_data",
          "data": {
            "text/html": [
              "\n",
              "     <input type=\"file\" id=\"files-8fee3db7-2a11-4d44-a7ed-2486a125f4b9\" name=\"files[]\" multiple disabled\n",
              "        style=\"border:none\" />\n",
              "     <output id=\"result-8fee3db7-2a11-4d44-a7ed-2486a125f4b9\">\n",
              "      Upload widget is only available when the cell has been executed in the\n",
              "      current browser session. Please rerun this cell to enable.\n",
              "      </output>\n",
              "      <script src=\"/nbextensions/google.colab/files.js\"></script> "
            ],
            "text/plain": [
              "<IPython.core.display.HTML object>"
            ]
          },
          "metadata": {}
        },
        {
          "output_type": "stream",
          "name": "stdout",
          "text": [
            "Saving download (1).jfif to download (1).jfif\n",
            "Saving hu1.jfif to hu1.jfif\n",
            "Saving human 2.jfif to human 2.jfif\n",
            "[[0.]]\n",
            "[0.]\n",
            "download (1).jfifis a horse\n",
            "[[0.]]\n",
            "[0.]\n",
            "hu1.jfifis a horse\n",
            "[[1.]]\n",
            "[1.]\n",
            "human 2.jfifis a human\n"
          ]
        }
      ]
    },
    {
      "cell_type": "code",
      "source": [
        ""
      ],
      "metadata": {
        "id": "Aq_6UK1vU4kI"
      },
      "execution_count": null,
      "outputs": []
    }
  ]
}