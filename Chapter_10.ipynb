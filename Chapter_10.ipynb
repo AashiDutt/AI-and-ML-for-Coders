{
  "nbformat": 4,
  "nbformat_minor": 0,
  "metadata": {
    "colab": {
      "name": "Chapter 10.ipynb",
      "provenance": [],
      "authorship_tag": "ABX9TyPe6tn3lFUUGEjXdDmCrYsc",
      "include_colab_link": true
    },
    "kernelspec": {
      "name": "python3",
      "display_name": "Python 3"
    },
    "language_info": {
      "name": "python"
    }
  },
  "cells": [
    {
      "cell_type": "markdown",
      "metadata": {
        "id": "view-in-github",
        "colab_type": "text"
      },
      "source": [
        "<a href=\"https://colab.research.google.com/github/AashiDutt/AI-and-ML-for-Coders/blob/main/Chapter_10.ipynb\" target=\"_parent\"><img src=\"https://colab.research.google.com/assets/colab-badge.svg\" alt=\"Open In Colab\"/></a>"
      ]
    },
    {
      "cell_type": "markdown",
      "source": [
        "Creating ML models to predict sequences\n",
        "\n",
        "This repository contains code for:\n",
        "\n",
        "1. Creating a windowed Dataset\n",
        "\n",
        "2. Using Learning Rate Scheduler\n",
        "\n",
        "3. Keras Tuner Tool to tune hyperparameters"
      ],
      "metadata": {
        "id": "hliafE7W9rtQ"
      }
    },
    {
      "cell_type": "code",
      "execution_count": 1,
      "metadata": {
        "id": "S15SFrGI9mHw"
      },
      "outputs": [],
      "source": [
        "# Creating windowed dataset\n",
        "\n",
        "import tensorflow as tf\n",
        "import numpy as np\n"
      ]
    },
    {
      "cell_type": "code",
      "source": [
        "dataset = tf.data.Dataset.range(10) #dataset contains values from 0 to n-1 (n = 10)\n",
        "\n",
        "#split dataset into windows of 5 items, then shift window by 1, \n",
        "#drop_remainder - when window reaches end and items in window are less than 5, they should be dropped\n",
        "dataset = dataset.window(5, shift = 1, drop_remainder = True)\n",
        "\n",
        "#split dataset into batch of 5 windows\n",
        "dataset = dataset.flat_map(lambda window:window.batch(5))\n",
        "\n",
        "#split each window into everything before the last value and then last value\n",
        "dataset = dataset.map(lambda window:(window[:-1], window[-1:]))\n",
        "\n",
        "dataset = dataset.shuffle(buffer_size = 10)\n",
        "dataset = dataset.batch(2).prefetch(1)\n",
        "\n",
        "#This gives x and y dataset\n",
        "for x, y in dataset:\n",
        "  print(\"x = \",x.numpy()) \n",
        "  print(\"y = \",y.numpy())"
      ],
      "metadata": {
        "colab": {
          "base_uri": "https://localhost:8080/"
        },
        "id": "WYhVLnru-CbW",
        "outputId": "1828ae3f-313b-4414-b06a-d66fce8c8103"
      },
      "execution_count": 2,
      "outputs": [
        {
          "output_type": "stream",
          "name": "stdout",
          "text": [
            "x =  [[0 1 2 3]\n",
            " [5 6 7 8]]\n",
            "y =  [[4]\n",
            " [9]]\n",
            "x =  [[4 5 6 7]\n",
            " [2 3 4 5]]\n",
            "y =  [[8]\n",
            " [6]]\n",
            "x =  [[3 4 5 6]\n",
            " [1 2 3 4]]\n",
            "y =  [[7]\n",
            " [5]]\n"
          ]
        }
      ]
    },
    {
      "cell_type": "code",
      "source": [
        "def trend(time, slope=0):\n",
        "    return slope * time\n",
        "\n",
        "def seasonal_pattern(season_time):\n",
        "    return np.where(season_time < 0.4,\n",
        "                    np.cos(season_time * 2 * np.pi),\n",
        "                    1 / np.exp(3 * season_time))\n",
        "\n",
        "def seasonality(time, period, amplitude=1, phase=0):\n",
        "    season_time = ((time + phase) % period) / period\n",
        "    return amplitude * seasonal_pattern(season_time)\n",
        "\n",
        "def noise(time, noise_level=1, seed=None):\n",
        "    rnd = np.random.RandomState(seed)\n",
        "    return rnd.randn(len(time)) * noise_level\n",
        "\n",
        "time = np.arange(4 * 365 + 1, dtype=\"float32\")\n",
        "series = trend(time, 0.1)\n",
        "baseline = 10\n",
        "amplitude = 20\n",
        "slope = 0.09\n",
        "noise_level = 5\n",
        "\n",
        "series = baseline + trend(time, slope) \n",
        "series += seasonality(time, period=365, amplitude=amplitude)\n",
        "series += noise(time, noise_level, seed=42)\n",
        "\n",
        "\n"
      ],
      "metadata": {
        "id": "XSwE30joBLoB"
      },
      "execution_count": 3,
      "outputs": []
    },
    {
      "cell_type": "code",
      "source": [
        "# Creating function for generating windowed dataset\n",
        "def windowed_dataset(series, window_size, batch_size, shuffle_buffer):\n",
        "\n",
        "#from_tensor_slices - turn series into dataset  \n",
        "  dataset = tf.data.Dataset.from_tensor_slices(series)\n",
        "\n",
        "  dataset = dataset.window(window_size + 1, shift=1,drop_remainder=True)\n",
        "\n",
        "  dataset = dataset.flat_map(lambda window:window.batch(window_size + 1))\n",
        "  dataset = dataset.shuffle(shuffle_buffer).map(lambda window:(window[:-1], window[-1]))\n",
        "\n",
        "  dataset = dataset.batch(batch_size).prefetch(1)\n",
        "  return dataset\n"
      ],
      "metadata": {
        "id": "mJFvAcyeFB6t"
      },
      "execution_count": 4,
      "outputs": []
    },
    {
      "cell_type": "code",
      "source": [
        "split_time = 1000\n",
        "time_train = time[:split_time]\n",
        "x_train = series[:split_time]\n",
        "time_valid = time[split_time:]\n",
        "x_valid = series[split_time:]\n",
        "window_size = 40 # 20\n",
        "batch_size = 32\n",
        "shuffle_buffer_size = 1000\n",
        "dataset = windowed_dataset(x_train, window_size, batch_size, shuffle_buffer_size)\n"
      ],
      "metadata": {
        "id": "vmbWogmmFvPz"
      },
      "execution_count": 5,
      "outputs": []
    },
    {
      "cell_type": "code",
      "source": [
        "#Looking at dataset\n",
        "dataset = windowed_dataset(series, window_size, 1, shuffle_buffer_size)\n",
        "for feature, label in dataset.take(1):\n",
        "  print(\"feature \",feature)\n",
        "  print(\"\\n\")\n",
        "  print(\"label \", label)"
      ],
      "metadata": {
        "colab": {
          "base_uri": "https://localhost:8080/"
        },
        "id": "RqD26qdaLLLf",
        "outputId": "a548c160-10f2-4806-a0e4-e942bd28446a"
      },
      "execution_count": 6,
      "outputs": [
        {
          "output_type": "stream",
          "name": "stdout",
          "text": [
            "feature  tf.Tensor(\n",
            "[[ 92.60279   93.30997   89.31646   91.71018   89.53894   91.38347\n",
            "  101.491005  91.43029  109.28827   98.53663   96.932556  91.64963\n",
            "   99.37076   92.913605  96.319275 108.421974  95.04854  101.17749\n",
            "   91.812584  95.04598  103.96257   91.8566   103.93184   98.28189\n",
            "   91.79975   97.63857   99.199295  97.3012    86.192345  90.25487\n",
            "   92.49587   93.20013   96.51047   94.12649   86.38827   94.7892\n",
            "   95.76066   95.32257   97.73987   96.31446 ]], shape=(1, 40), dtype=float32)\n",
            "\n",
            "\n",
            "label  tf.Tensor([94.24625], shape=(1,), dtype=float32)\n"
          ]
        }
      ]
    },
    {
      "cell_type": "code",
      "source": [
        "dataset = windowed_dataset(series, window_size, batch_size, shuffle_buffer_size)\n",
        "\n",
        "model = tf.keras.models.Sequential([\n",
        "                                    tf.keras.layers.Dense(10, input_shape = [window_size], activation = \"relu\"),\n",
        "                                    tf.keras.layers.Dense(10, activation = \"relu\"),\n",
        "                                    tf.keras.layers.Dense(1)\n",
        "])\n"
      ],
      "metadata": {
        "id": "vohPpvzRLbgK"
      },
      "execution_count": 8,
      "outputs": []
    },
    {
      "cell_type": "code",
      "source": [
        "model.compile(loss = \"mse\",optimizer = tf.keras.optimizers.SGD(lr = 1e-6, momentum = 0.9), metrics = ['accuracy'])\n",
        "history = model.fit(dataset, epochs = 100, verbose = 1)"
      ],
      "metadata": {
        "colab": {
          "base_uri": "https://localhost:8080/"
        },
        "id": "QuajjfrvOOn-",
        "outputId": "80abeac2-d98f-47b3-a5ee-fc7ab4b98c40"
      },
      "execution_count": 48,
      "outputs": [
        {
          "output_type": "stream",
          "name": "stdout",
          "text": [
            "Epoch 1/100\n"
          ]
        },
        {
          "output_type": "stream",
          "name": "stderr",
          "text": [
            "/usr/local/lib/python3.7/dist-packages/keras/optimizer_v2/gradient_descent.py:102: UserWarning: The `lr` argument is deprecated, use `learning_rate` instead.\n",
            "  super(SGD, self).__init__(name, **kwargs)\n"
          ]
        },
        {
          "output_type": "stream",
          "name": "stdout",
          "text": [
            "45/45 [==============================] - 1s 4ms/step - loss: 411.1821 - accuracy: 0.0000e+00\n",
            "Epoch 2/100\n",
            "45/45 [==============================] - 0s 5ms/step - loss: 55.2277 - accuracy: 0.0000e+00\n",
            "Epoch 3/100\n",
            "45/45 [==============================] - 0s 4ms/step - loss: 50.2974 - accuracy: 0.0000e+00\n",
            "Epoch 4/100\n",
            "45/45 [==============================] - 0s 4ms/step - loss: 51.7300 - accuracy: 0.0000e+00\n",
            "Epoch 5/100\n",
            "45/45 [==============================] - 0s 4ms/step - loss: 50.2473 - accuracy: 0.0000e+00\n",
            "Epoch 6/100\n",
            "45/45 [==============================] - 0s 3ms/step - loss: 46.8424 - accuracy: 0.0000e+00\n",
            "Epoch 7/100\n",
            "45/45 [==============================] - 0s 4ms/step - loss: 48.0476 - accuracy: 0.0000e+00\n",
            "Epoch 8/100\n",
            "45/45 [==============================] - 0s 3ms/step - loss: 48.8554 - accuracy: 0.0000e+00\n",
            "Epoch 9/100\n",
            "45/45 [==============================] - 0s 3ms/step - loss: 53.9749 - accuracy: 0.0000e+00\n",
            "Epoch 10/100\n",
            "45/45 [==============================] - 0s 4ms/step - loss: 45.8936 - accuracy: 0.0000e+00\n",
            "Epoch 11/100\n",
            "45/45 [==============================] - 0s 4ms/step - loss: 45.3121 - accuracy: 0.0000e+00\n",
            "Epoch 12/100\n",
            "45/45 [==============================] - 0s 3ms/step - loss: 48.8529 - accuracy: 0.0000e+00\n",
            "Epoch 13/100\n",
            "45/45 [==============================] - 0s 3ms/step - loss: 47.2611 - accuracy: 0.0000e+00\n",
            "Epoch 14/100\n",
            "45/45 [==============================] - 0s 3ms/step - loss: 43.4721 - accuracy: 0.0000e+00\n",
            "Epoch 15/100\n",
            "45/45 [==============================] - 0s 3ms/step - loss: 46.3677 - accuracy: 0.0000e+00\n",
            "Epoch 16/100\n",
            "45/45 [==============================] - 0s 3ms/step - loss: 46.0897 - accuracy: 0.0000e+00\n",
            "Epoch 17/100\n",
            "45/45 [==============================] - 0s 3ms/step - loss: 43.7106 - accuracy: 0.0000e+00\n",
            "Epoch 18/100\n",
            "45/45 [==============================] - 0s 3ms/step - loss: 43.4493 - accuracy: 0.0000e+00\n",
            "Epoch 19/100\n",
            "45/45 [==============================] - 0s 4ms/step - loss: 44.4573 - accuracy: 0.0000e+00\n",
            "Epoch 20/100\n",
            "45/45 [==============================] - 0s 3ms/step - loss: 41.8152 - accuracy: 0.0000e+00\n",
            "Epoch 21/100\n",
            "45/45 [==============================] - 0s 3ms/step - loss: 42.8178 - accuracy: 0.0000e+00\n",
            "Epoch 22/100\n",
            "45/45 [==============================] - 0s 4ms/step - loss: 41.7555 - accuracy: 0.0000e+00\n",
            "Epoch 23/100\n",
            "45/45 [==============================] - 0s 3ms/step - loss: 42.5213 - accuracy: 0.0000e+00\n",
            "Epoch 24/100\n",
            "45/45 [==============================] - 0s 4ms/step - loss: 42.4923 - accuracy: 0.0000e+00\n",
            "Epoch 25/100\n",
            "45/45 [==============================] - 0s 3ms/step - loss: 40.8341 - accuracy: 0.0000e+00\n",
            "Epoch 26/100\n",
            "45/45 [==============================] - 0s 3ms/step - loss: 40.5249 - accuracy: 0.0000e+00\n",
            "Epoch 27/100\n",
            "45/45 [==============================] - 0s 4ms/step - loss: 41.1944 - accuracy: 0.0000e+00\n",
            "Epoch 28/100\n",
            "45/45 [==============================] - 0s 4ms/step - loss: 40.5169 - accuracy: 0.0000e+00\n",
            "Epoch 29/100\n",
            "45/45 [==============================] - 0s 4ms/step - loss: 41.5266 - accuracy: 0.0000e+00\n",
            "Epoch 30/100\n",
            "45/45 [==============================] - 0s 3ms/step - loss: 40.3941 - accuracy: 0.0000e+00\n",
            "Epoch 31/100\n",
            "45/45 [==============================] - 0s 4ms/step - loss: 40.7630 - accuracy: 0.0000e+00\n",
            "Epoch 32/100\n",
            "45/45 [==============================] - 0s 3ms/step - loss: 39.9031 - accuracy: 0.0000e+00\n",
            "Epoch 33/100\n",
            "45/45 [==============================] - 0s 3ms/step - loss: 40.1350 - accuracy: 0.0000e+00\n",
            "Epoch 34/100\n",
            "45/45 [==============================] - 0s 4ms/step - loss: 40.4068 - accuracy: 0.0000e+00\n",
            "Epoch 35/100\n",
            "45/45 [==============================] - 0s 4ms/step - loss: 43.7092 - accuracy: 0.0000e+00\n",
            "Epoch 36/100\n",
            "45/45 [==============================] - 0s 3ms/step - loss: 41.2947 - accuracy: 0.0000e+00\n",
            "Epoch 37/100\n",
            "45/45 [==============================] - 0s 4ms/step - loss: 41.8950 - accuracy: 0.0000e+00\n",
            "Epoch 38/100\n",
            "45/45 [==============================] - 0s 3ms/step - loss: 41.2403 - accuracy: 0.0000e+00\n",
            "Epoch 39/100\n",
            "45/45 [==============================] - 0s 3ms/step - loss: 42.9665 - accuracy: 0.0000e+00\n",
            "Epoch 40/100\n",
            "45/45 [==============================] - 0s 4ms/step - loss: 47.9680 - accuracy: 0.0000e+00\n",
            "Epoch 41/100\n",
            "45/45 [==============================] - 0s 3ms/step - loss: 39.4997 - accuracy: 0.0000e+00\n",
            "Epoch 42/100\n",
            "45/45 [==============================] - 0s 4ms/step - loss: 39.7935 - accuracy: 0.0000e+00\n",
            "Epoch 43/100\n",
            "45/45 [==============================] - 0s 3ms/step - loss: 40.8258 - accuracy: 0.0000e+00\n",
            "Epoch 44/100\n",
            "45/45 [==============================] - 0s 3ms/step - loss: 39.4058 - accuracy: 0.0000e+00\n",
            "Epoch 45/100\n",
            "45/45 [==============================] - 0s 4ms/step - loss: 38.7882 - accuracy: 0.0000e+00\n",
            "Epoch 46/100\n",
            "45/45 [==============================] - 0s 4ms/step - loss: 38.6637 - accuracy: 0.0000e+00\n",
            "Epoch 47/100\n",
            "45/45 [==============================] - 0s 4ms/step - loss: 40.1348 - accuracy: 0.0000e+00\n",
            "Epoch 48/100\n",
            "45/45 [==============================] - 0s 4ms/step - loss: 44.9839 - accuracy: 0.0000e+00\n",
            "Epoch 49/100\n",
            "45/45 [==============================] - 0s 4ms/step - loss: 39.0194 - accuracy: 0.0000e+00\n",
            "Epoch 50/100\n",
            "45/45 [==============================] - 0s 3ms/step - loss: 38.5994 - accuracy: 0.0000e+00\n",
            "Epoch 51/100\n",
            "45/45 [==============================] - 0s 4ms/step - loss: 41.5808 - accuracy: 0.0000e+00\n",
            "Epoch 52/100\n",
            "45/45 [==============================] - 0s 4ms/step - loss: 38.4774 - accuracy: 0.0000e+00\n",
            "Epoch 53/100\n",
            "45/45 [==============================] - 0s 3ms/step - loss: 38.4272 - accuracy: 0.0000e+00\n",
            "Epoch 54/100\n",
            "45/45 [==============================] - 0s 4ms/step - loss: 39.9028 - accuracy: 0.0000e+00\n",
            "Epoch 55/100\n",
            "45/45 [==============================] - 0s 4ms/step - loss: 38.4849 - accuracy: 0.0000e+00\n",
            "Epoch 56/100\n",
            "45/45 [==============================] - 0s 4ms/step - loss: 41.9247 - accuracy: 0.0000e+00\n",
            "Epoch 57/100\n",
            "45/45 [==============================] - 0s 4ms/step - loss: 41.4627 - accuracy: 0.0000e+00\n",
            "Epoch 58/100\n",
            "45/45 [==============================] - 0s 3ms/step - loss: 41.2717 - accuracy: 0.0000e+00\n",
            "Epoch 59/100\n",
            "45/45 [==============================] - 0s 3ms/step - loss: 37.6321 - accuracy: 0.0000e+00\n",
            "Epoch 60/100\n",
            "45/45 [==============================] - 0s 5ms/step - loss: 38.9210 - accuracy: 0.0000e+00\n",
            "Epoch 61/100\n",
            "45/45 [==============================] - 0s 4ms/step - loss: 38.9987 - accuracy: 0.0000e+00\n",
            "Epoch 62/100\n",
            "45/45 [==============================] - 0s 4ms/step - loss: 40.0570 - accuracy: 0.0000e+00\n",
            "Epoch 63/100\n",
            "45/45 [==============================] - 0s 3ms/step - loss: 40.2202 - accuracy: 0.0000e+00\n",
            "Epoch 64/100\n",
            "45/45 [==============================] - 0s 4ms/step - loss: 40.2542 - accuracy: 0.0000e+00\n",
            "Epoch 65/100\n",
            "45/45 [==============================] - 0s 4ms/step - loss: 41.0930 - accuracy: 0.0000e+00\n",
            "Epoch 66/100\n",
            "45/45 [==============================] - 0s 4ms/step - loss: 38.0351 - accuracy: 0.0000e+00\n",
            "Epoch 67/100\n",
            "45/45 [==============================] - 0s 4ms/step - loss: 42.3604 - accuracy: 0.0000e+00\n",
            "Epoch 68/100\n",
            "45/45 [==============================] - 0s 4ms/step - loss: 38.0731 - accuracy: 0.0000e+00\n",
            "Epoch 69/100\n",
            "45/45 [==============================] - 0s 3ms/step - loss: 38.5454 - accuracy: 0.0000e+00\n",
            "Epoch 70/100\n",
            "45/45 [==============================] - 0s 3ms/step - loss: 38.3539 - accuracy: 0.0000e+00\n",
            "Epoch 71/100\n",
            "45/45 [==============================] - 0s 3ms/step - loss: 37.1833 - accuracy: 0.0000e+00\n",
            "Epoch 72/100\n",
            "45/45 [==============================] - 0s 4ms/step - loss: 37.9246 - accuracy: 0.0000e+00\n",
            "Epoch 73/100\n",
            "45/45 [==============================] - 0s 3ms/step - loss: 38.0332 - accuracy: 0.0000e+00\n",
            "Epoch 74/100\n",
            "45/45 [==============================] - 0s 4ms/step - loss: 36.7637 - accuracy: 0.0000e+00\n",
            "Epoch 75/100\n",
            "45/45 [==============================] - 0s 4ms/step - loss: 38.9566 - accuracy: 0.0000e+00\n",
            "Epoch 76/100\n",
            "45/45 [==============================] - 0s 4ms/step - loss: 37.0593 - accuracy: 0.0000e+00\n",
            "Epoch 77/100\n",
            "45/45 [==============================] - 0s 4ms/step - loss: 37.1320 - accuracy: 0.0000e+00\n",
            "Epoch 78/100\n",
            "45/45 [==============================] - 0s 4ms/step - loss: 38.7633 - accuracy: 0.0000e+00\n",
            "Epoch 79/100\n",
            "45/45 [==============================] - 0s 4ms/step - loss: 37.9221 - accuracy: 0.0000e+00\n",
            "Epoch 80/100\n",
            "45/45 [==============================] - 0s 4ms/step - loss: 38.8330 - accuracy: 0.0000e+00\n",
            "Epoch 81/100\n",
            "45/45 [==============================] - 0s 3ms/step - loss: 37.6505 - accuracy: 0.0000e+00\n",
            "Epoch 82/100\n",
            "45/45 [==============================] - 0s 3ms/step - loss: 37.4671 - accuracy: 0.0000e+00\n",
            "Epoch 83/100\n",
            "45/45 [==============================] - 0s 4ms/step - loss: 37.7225 - accuracy: 0.0000e+00\n",
            "Epoch 84/100\n",
            "45/45 [==============================] - 0s 4ms/step - loss: 37.0203 - accuracy: 0.0000e+00\n",
            "Epoch 85/100\n",
            "45/45 [==============================] - 0s 4ms/step - loss: 38.4719 - accuracy: 0.0000e+00\n",
            "Epoch 86/100\n",
            "45/45 [==============================] - 0s 4ms/step - loss: 38.2886 - accuracy: 0.0000e+00\n",
            "Epoch 87/100\n",
            "45/45 [==============================] - 0s 3ms/step - loss: 38.9577 - accuracy: 0.0000e+00\n",
            "Epoch 88/100\n",
            "45/45 [==============================] - 0s 4ms/step - loss: 36.4728 - accuracy: 0.0000e+00\n",
            "Epoch 89/100\n",
            "45/45 [==============================] - 0s 4ms/step - loss: 36.5608 - accuracy: 0.0000e+00\n",
            "Epoch 90/100\n",
            "45/45 [==============================] - 0s 4ms/step - loss: 38.9804 - accuracy: 0.0000e+00\n",
            "Epoch 91/100\n",
            "45/45 [==============================] - 0s 4ms/step - loss: 37.7794 - accuracy: 0.0000e+00\n",
            "Epoch 92/100\n",
            "45/45 [==============================] - 0s 4ms/step - loss: 37.7319 - accuracy: 0.0000e+00\n",
            "Epoch 93/100\n",
            "45/45 [==============================] - 0s 4ms/step - loss: 38.3882 - accuracy: 0.0000e+00\n",
            "Epoch 94/100\n",
            "45/45 [==============================] - 0s 4ms/step - loss: 36.2988 - accuracy: 0.0000e+00\n",
            "Epoch 95/100\n",
            "45/45 [==============================] - 0s 4ms/step - loss: 36.2067 - accuracy: 0.0000e+00\n",
            "Epoch 96/100\n",
            "45/45 [==============================] - 0s 4ms/step - loss: 37.1064 - accuracy: 0.0000e+00\n",
            "Epoch 97/100\n",
            "45/45 [==============================] - 0s 4ms/step - loss: 36.8833 - accuracy: 0.0000e+00\n",
            "Epoch 98/100\n",
            "45/45 [==============================] - 0s 4ms/step - loss: 37.0686 - accuracy: 0.0000e+00\n",
            "Epoch 99/100\n",
            "45/45 [==============================] - 0s 4ms/step - loss: 36.1397 - accuracy: 0.0000e+00\n",
            "Epoch 100/100\n",
            "45/45 [==============================] - 0s 5ms/step - loss: 36.4357 - accuracy: 0.0000e+00\n"
          ]
        }
      ]
    },
    {
      "cell_type": "code",
      "source": [
        "print(series[1000:1040]) #(1040 -- replaced 1020 because window size changed from 20 to 40)\n"
      ],
      "metadata": {
        "colab": {
          "base_uri": "https://localhost:8080/"
        },
        "id": "H0PUhjSQO6Ka",
        "outputId": "4c6e6026-f553-4963-ad52-30de2cc7d4d5"
      },
      "execution_count": 57,
      "outputs": [
        {
          "output_type": "stream",
          "name": "stdout",
          "text": [
            "[109.170746 106.86935  102.61668   99.15634  105.95478  104.503876\n",
            " 107.08533  105.858284 108.00339  100.15279  109.4894   103.96404\n",
            " 113.426094  99.67773  111.87749  104.26137  100.08899  101.00105\n",
            " 101.893265 105.69048  106.258606 100.85084  103.67259  114.580864\n",
            " 112.5825   106.20179  104.2857   104.77147  107.314644  99.20896\n",
            " 103.11202   96.13207  106.54732  107.863495 102.288025 112.65043\n",
            "  98.728325  97.61204  106.13305  110.32325 ]\n"
          ]
        }
      ]
    },
    {
      "cell_type": "code",
      "source": [
        "print(series[1040])"
      ],
      "metadata": {
        "colab": {
          "base_uri": "https://localhost:8080/"
        },
        "id": "SLaAw5qeRSQ-",
        "outputId": "7d63aeb2-72e3-4b7d-888c-719076031ed8"
      },
      "execution_count": 56,
      "outputs": [
        {
          "output_type": "stream",
          "name": "stdout",
          "text": [
            "113.58449\n"
          ]
        }
      ]
    },
    {
      "cell_type": "code",
      "source": [
        "print(model.predict(series[1000:1040][np.newaxis]))"
      ],
      "metadata": {
        "colab": {
          "base_uri": "https://localhost:8080/"
        },
        "id": "68eITzYpRVBd",
        "outputId": "7063608c-1404-4c98-d81c-4ecd2bac7a25"
      },
      "execution_count": 55,
      "outputs": [
        {
          "output_type": "stream",
          "name": "stdout",
          "text": [
            "[[108.158806]]\n"
          ]
        }
      ]
    },
    {
      "cell_type": "code",
      "source": [
        "forecast = [] #array to store predicted values\n",
        "for time in range(len(series) - window_size):\n",
        "  forecast.append( #call predict for every time step\n",
        "      model.predict(series[time:time + window_size][np.newaxis])\n",
        "  )"
      ],
      "metadata": {
        "id": "bJ9MQtwkRdk4"
      },
      "execution_count": 58,
      "outputs": []
    },
    {
      "cell_type": "code",
      "source": [
        "# forecast array has values of predctions for time step 21 onwards -- winsow size is 20\n",
        "\n",
        "forecast = forecast[split_time - window_size:]\n",
        "results = np.array(forecast)[:,0,0]\n"
      ],
      "metadata": {
        "id": "Vm-4ILxmSKlE"
      },
      "execution_count": 59,
      "outputs": []
    },
    {
      "cell_type": "code",
      "source": [
        "#Chapter 9 code\n",
        "def plot_series(time, series, format = \"-\", start = 0, end = None):\n",
        "  plt.plot(time[start:end],series[start:end], format)\n",
        "  plt.xlabel(\"Time\")\n",
        "  plt.ylabel(\"Value\")\n",
        "  plt.grid(True)"
      ],
      "metadata": {
        "id": "1ZoFp4edUYKq"
      },
      "execution_count": 60,
      "outputs": []
    },
    {
      "cell_type": "code",
      "source": [
        "import matplotlib.pyplot as plt\n",
        "\n",
        "plt.figure(figsize = (10,6))\n",
        "plot_series(time_valid, x_valid)\n",
        "plot_series(time_valid, results)"
      ],
      "metadata": {
        "colab": {
          "base_uri": "https://localhost:8080/",
          "height": 388
        },
        "id": "jp9vJJXyUAZ1",
        "outputId": "252362c3-2ce9-4cde-b6f3-d62a5de6c140"
      },
      "execution_count": 61,
      "outputs": [
        {
          "output_type": "display_data",
          "data": {
            "image/png": "[encoded data removed]",
            "text/plain": [
              "<Figure size 720x432 with 1 Axes>"
            ]
          },
          "metadata": {
            "needs_background": "light"
          }
        }
      ]
    },
    {
      "cell_type": "code",
      "source": [
        "tf.keras.metrics.mean_absolute_error(x_valid, results).numpy()"
      ],
      "metadata": {
        "colab": {
          "base_uri": "https://localhost:8080/"
        },
        "id": "aLMue4b3UbWc",
        "outputId": "9382d40d-18ad-453e-ad1a-ed9385af9dcb"
      },
      "execution_count": 62,
      "outputs": [
        {
          "output_type": "execute_result",
          "data": {
            "text/plain": [
              "4.677437"
            ]
          },
          "metadata": {},
          "execution_count": 62
        }
      ]
    },
    {
      "cell_type": "code",
      "source": [
        "#learning rate scheduler\n",
        "\n",
        "lr_schedule = tf.keras.callbacks.LearningRateScheduler(lambda epoch:1e-8 * 10 **(epoch / 20))"
      ],
      "metadata": {
        "id": "Y7ZBf2oSUpy2"
      },
      "execution_count": 63,
      "outputs": []
    },
    {
      "cell_type": "code",
      "source": [
        "optimizer = tf.keras.optimizers.SGD(lr = 1e-6, momentum = 0.9)\n",
        "model.compile(loss = \"mse\", optimizer = optimizer, metrics = ['accuracy'])\n",
        "history = model.fit(dataset, epochs = 100, callbacks=[lr_schedule], verbose = 1)"
      ],
      "metadata": {
        "colab": {
          "base_uri": "https://localhost:8080/"
        },
        "id": "G1bxWPGhVK79",
        "outputId": "bb0100f5-5122-4ba9-c7fe-21e1c9367fbe"
      },
      "execution_count": 64,
      "outputs": [
        {
          "output_type": "stream",
          "name": "stdout",
          "text": [
            "Epoch 1/100\n"
          ]
        },
        {
          "output_type": "stream",
          "name": "stderr",
          "text": [
            "/usr/local/lib/python3.7/dist-packages/keras/optimizer_v2/gradient_descent.py:102: UserWarning: The `lr` argument is deprecated, use `learning_rate` instead.\n",
            "  super(SGD, self).__init__(name, **kwargs)\n"
          ]
        },
        {
          "output_type": "stream",
          "name": "stdout",
          "text": [
            "45/45 [==============================] - 1s 4ms/step - loss: 35.5561 - accuracy: 0.0000e+00 - lr: 1.0000e-08\n",
            "Epoch 2/100\n",
            "45/45 [==============================] - 0s 4ms/step - loss: 35.3851 - accuracy: 0.0000e+00 - lr: 1.1220e-08\n",
            "Epoch 3/100\n",
            "45/45 [==============================] - 0s 4ms/step - loss: 35.3748 - accuracy: 0.0000e+00 - lr: 1.2589e-08\n",
            "Epoch 4/100\n",
            "45/45 [==============================] - 0s 3ms/step - loss: 35.3735 - accuracy: 0.0000e+00 - lr: 1.4125e-08\n",
            "Epoch 5/100\n",
            "45/45 [==============================] - 0s 4ms/step - loss: 35.4094 - accuracy: 0.0000e+00 - lr: 1.5849e-08\n",
            "Epoch 6/100\n",
            "45/45 [==============================] - 0s 4ms/step - loss: 35.3847 - accuracy: 0.0000e+00 - lr: 1.7783e-08\n",
            "Epoch 7/100\n",
            "45/45 [==============================] - 0s 4ms/step - loss: 35.3789 - accuracy: 0.0000e+00 - lr: 1.9953e-08\n",
            "Epoch 8/100\n",
            "45/45 [==============================] - 0s 3ms/step - loss: 35.3649 - accuracy: 0.0000e+00 - lr: 2.2387e-08\n",
            "Epoch 9/100\n",
            "45/45 [==============================] - 0s 4ms/step - loss: 35.3738 - accuracy: 0.0000e+00 - lr: 2.5119e-08\n",
            "Epoch 10/100\n",
            "45/45 [==============================] - 0s 3ms/step - loss: 35.3993 - accuracy: 0.0000e+00 - lr: 2.8184e-08\n",
            "Epoch 11/100\n",
            "45/45 [==============================] - 0s 4ms/step - loss: 35.3882 - accuracy: 0.0000e+00 - lr: 3.1623e-08\n",
            "Epoch 12/100\n",
            "45/45 [==============================] - 0s 4ms/step - loss: 35.3978 - accuracy: 0.0000e+00 - lr: 3.5481e-08\n",
            "Epoch 13/100\n",
            "45/45 [==============================] - 0s 4ms/step - loss: 35.4436 - accuracy: 0.0000e+00 - lr: 3.9811e-08\n",
            "Epoch 14/100\n",
            "45/45 [==============================] - 0s 3ms/step - loss: 35.4294 - accuracy: 0.0000e+00 - lr: 4.4668e-08\n",
            "Epoch 15/100\n",
            "45/45 [==============================] - 0s 4ms/step - loss: 35.4437 - accuracy: 0.0000e+00 - lr: 5.0119e-08\n",
            "Epoch 16/100\n",
            "45/45 [==============================] - 0s 4ms/step - loss: 35.4017 - accuracy: 0.0000e+00 - lr: 5.6234e-08\n",
            "Epoch 17/100\n",
            "45/45 [==============================] - 0s 4ms/step - loss: 35.4189 - accuracy: 0.0000e+00 - lr: 6.3096e-08\n",
            "Epoch 18/100\n",
            "45/45 [==============================] - 0s 4ms/step - loss: 35.3801 - accuracy: 0.0000e+00 - lr: 7.0795e-08\n",
            "Epoch 19/100\n",
            "45/45 [==============================] - 0s 4ms/step - loss: 35.4588 - accuracy: 0.0000e+00 - lr: 7.9433e-08\n",
            "Epoch 20/100\n",
            "45/45 [==============================] - 0s 4ms/step - loss: 35.6219 - accuracy: 0.0000e+00 - lr: 8.9125e-08\n",
            "Epoch 21/100\n",
            "45/45 [==============================] - 0s 4ms/step - loss: 35.4058 - accuracy: 0.0000e+00 - lr: 1.0000e-07\n",
            "Epoch 22/100\n",
            "45/45 [==============================] - 0s 5ms/step - loss: 35.4193 - accuracy: 0.0000e+00 - lr: 1.1220e-07\n",
            "Epoch 23/100\n",
            "45/45 [==============================] - 0s 4ms/step - loss: 35.4803 - accuracy: 0.0000e+00 - lr: 1.2589e-07\n",
            "Epoch 24/100\n",
            "45/45 [==============================] - 0s 4ms/step - loss: 35.5120 - accuracy: 0.0000e+00 - lr: 1.4125e-07\n",
            "Epoch 25/100\n",
            "45/45 [==============================] - 0s 4ms/step - loss: 35.5616 - accuracy: 0.0000e+00 - lr: 1.5849e-07\n",
            "Epoch 26/100\n",
            "45/45 [==============================] - 0s 4ms/step - loss: 35.6411 - accuracy: 0.0000e+00 - lr: 1.7783e-07\n",
            "Epoch 27/100\n",
            "45/45 [==============================] - 0s 4ms/step - loss: 35.4933 - accuracy: 0.0000e+00 - lr: 1.9953e-07\n",
            "Epoch 28/100\n",
            "45/45 [==============================] - 0s 4ms/step - loss: 35.4776 - accuracy: 0.0000e+00 - lr: 2.2387e-07\n",
            "Epoch 29/100\n",
            "45/45 [==============================] - 0s 4ms/step - loss: 35.4647 - accuracy: 0.0000e+00 - lr: 2.5119e-07\n",
            "Epoch 30/100\n",
            "45/45 [==============================] - 0s 4ms/step - loss: 36.2129 - accuracy: 0.0000e+00 - lr: 2.8184e-07\n",
            "Epoch 31/100\n",
            "45/45 [==============================] - 0s 4ms/step - loss: 36.1369 - accuracy: 0.0000e+00 - lr: 3.1623e-07\n",
            "Epoch 32/100\n",
            "45/45 [==============================] - 0s 4ms/step - loss: 35.5861 - accuracy: 0.0000e+00 - lr: 3.5481e-07\n",
            "Epoch 33/100\n",
            "45/45 [==============================] - 0s 4ms/step - loss: 35.9267 - accuracy: 0.0000e+00 - lr: 3.9811e-07\n",
            "Epoch 34/100\n",
            "45/45 [==============================] - 0s 4ms/step - loss: 36.0656 - accuracy: 0.0000e+00 - lr: 4.4668e-07\n",
            "Epoch 35/100\n",
            "45/45 [==============================] - 0s 4ms/step - loss: 35.8088 - accuracy: 0.0000e+00 - lr: 5.0119e-07\n",
            "Epoch 36/100\n",
            "45/45 [==============================] - 0s 4ms/step - loss: 35.6840 - accuracy: 0.0000e+00 - lr: 5.6234e-07\n",
            "Epoch 37/100\n",
            "45/45 [==============================] - 0s 4ms/step - loss: 36.2685 - accuracy: 0.0000e+00 - lr: 6.3096e-07\n",
            "Epoch 38/100\n",
            "45/45 [==============================] - 0s 4ms/step - loss: 35.7598 - accuracy: 0.0000e+00 - lr: 7.0795e-07\n",
            "Epoch 39/100\n",
            "45/45 [==============================] - 0s 3ms/step - loss: 36.0152 - accuracy: 0.0000e+00 - lr: 7.9433e-07\n",
            "Epoch 40/100\n",
            "45/45 [==============================] - 0s 4ms/step - loss: 39.4897 - accuracy: 0.0000e+00 - lr: 8.9125e-07\n",
            "Epoch 41/100\n",
            "45/45 [==============================] - 0s 3ms/step - loss: 38.0214 - accuracy: 0.0000e+00 - lr: 1.0000e-06\n",
            "Epoch 42/100\n",
            "45/45 [==============================] - 0s 4ms/step - loss: 36.5502 - accuracy: 0.0000e+00 - lr: 1.1220e-06\n",
            "Epoch 43/100\n",
            "45/45 [==============================] - 0s 4ms/step - loss: 36.3885 - accuracy: 0.0000e+00 - lr: 1.2589e-06\n",
            "Epoch 44/100\n",
            "45/45 [==============================] - 0s 4ms/step - loss: 36.6068 - accuracy: 0.0000e+00 - lr: 1.4125e-06\n",
            "Epoch 45/100\n",
            "45/45 [==============================] - 0s 4ms/step - loss: 39.6482 - accuracy: 0.0000e+00 - lr: 1.5849e-06\n",
            "Epoch 46/100\n",
            "45/45 [==============================] - 0s 4ms/step - loss: 42.0935 - accuracy: 0.0000e+00 - lr: 1.7783e-06\n",
            "Epoch 47/100\n",
            "45/45 [==============================] - 0s 4ms/step - loss: 40.3473 - accuracy: 0.0000e+00 - lr: 1.9953e-06\n",
            "Epoch 48/100\n",
            "45/45 [==============================] - 0s 7ms/step - loss: 37.8533 - accuracy: 0.0000e+00 - lr: 2.2387e-06\n",
            "Epoch 49/100\n",
            "45/45 [==============================] - 0s 7ms/step - loss: 40.9622 - accuracy: 0.0000e+00 - lr: 2.5119e-06\n",
            "Epoch 50/100\n",
            "45/45 [==============================] - 1s 6ms/step - loss: 40.5565 - accuracy: 0.0000e+00 - lr: 2.8184e-06\n",
            "Epoch 51/100\n",
            "45/45 [==============================] - 1s 9ms/step - loss: 38.0252 - accuracy: 0.0000e+00 - lr: 3.1623e-06\n",
            "Epoch 52/100\n",
            "45/45 [==============================] - 1s 10ms/step - loss: 39.5478 - accuracy: 0.0000e+00 - lr: 3.5481e-06\n",
            "Epoch 53/100\n",
            "45/45 [==============================] - 1s 10ms/step - loss: 40.2478 - accuracy: 0.0000e+00 - lr: 3.9811e-06\n",
            "Epoch 54/100\n",
            "45/45 [==============================] - 0s 4ms/step - loss: 44.4925 - accuracy: 0.0000e+00 - lr: 4.4668e-06\n",
            "Epoch 55/100\n",
            "45/45 [==============================] - 0s 4ms/step - loss: 50.7307 - accuracy: 0.0000e+00 - lr: 5.0119e-06\n",
            "Epoch 56/100\n",
            "45/45 [==============================] - 0s 4ms/step - loss: 76.9042 - accuracy: 0.0000e+00 - lr: 5.6234e-06\n",
            "Epoch 57/100\n",
            "45/45 [==============================] - 0s 4ms/step - loss: 41.2587 - accuracy: 0.0000e+00 - lr: 6.3096e-06\n",
            "Epoch 58/100\n",
            "45/45 [==============================] - 0s 4ms/step - loss: 39.6247 - accuracy: 0.0000e+00 - lr: 7.0795e-06\n",
            "Epoch 59/100\n",
            "45/45 [==============================] - 0s 4ms/step - loss: 51.7876 - accuracy: 0.0000e+00 - lr: 7.9433e-06\n",
            "Epoch 60/100\n",
            "45/45 [==============================] - 0s 4ms/step - loss: 43.2512 - accuracy: 0.0000e+00 - lr: 8.9125e-06\n",
            "Epoch 61/100\n",
            "45/45 [==============================] - 0s 4ms/step - loss: 46.0125 - accuracy: 0.0000e+00 - lr: 1.0000e-05\n",
            "Epoch 62/100\n",
            "45/45 [==============================] - 0s 4ms/step - loss: 50.8058 - accuracy: 0.0000e+00 - lr: 1.1220e-05\n",
            "Epoch 63/100\n",
            "45/45 [==============================] - 0s 4ms/step - loss: 71.3441 - accuracy: 0.0000e+00 - lr: 1.2589e-05\n",
            "Epoch 64/100\n",
            "45/45 [==============================] - 0s 4ms/step - loss: 201.8394 - accuracy: 0.0000e+00 - lr: 1.4125e-05\n",
            "Epoch 65/100\n",
            "45/45 [==============================] - 0s 4ms/step - loss: 4398.7290 - accuracy: 0.0000e+00 - lr: 1.5849e-05\n",
            "Epoch 66/100\n",
            "45/45 [==============================] - 0s 4ms/step - loss: 7707.1865 - accuracy: 0.0000e+00 - lr: 1.7783e-05\n",
            "Epoch 67/100\n",
            "45/45 [==============================] - 0s 4ms/step - loss: 11545.2031 - accuracy: 0.0000e+00 - lr: 1.9953e-05\n",
            "Epoch 68/100\n",
            "45/45 [==============================] - 0s 4ms/step - loss: 7423.5088 - accuracy: 0.0000e+00 - lr: 2.2387e-05\n",
            "Epoch 69/100\n",
            "45/45 [==============================] - 0s 4ms/step - loss: 7178.3027 - accuracy: 0.0000e+00 - lr: 2.5119e-05\n",
            "Epoch 70/100\n",
            "45/45 [==============================] - 0s 4ms/step - loss: 6915.0811 - accuracy: 0.0000e+00 - lr: 2.8184e-05\n",
            "Epoch 71/100\n",
            "45/45 [==============================] - 0s 4ms/step - loss: 6634.3828 - accuracy: 0.0000e+00 - lr: 3.1623e-05\n",
            "Epoch 72/100\n",
            "45/45 [==============================] - 0s 5ms/step - loss: 6335.9556 - accuracy: 0.0000e+00 - lr: 3.5481e-05\n",
            "Epoch 73/100\n",
            "45/45 [==============================] - 0s 4ms/step - loss: 6021.6089 - accuracy: 0.0000e+00 - lr: 3.9811e-05\n",
            "Epoch 74/100\n",
            "45/45 [==============================] - 0s 4ms/step - loss: 5691.7554 - accuracy: 0.0000e+00 - lr: 4.4668e-05\n",
            "Epoch 75/100\n",
            "45/45 [==============================] - 0s 4ms/step - loss: 5350.1250 - accuracy: 0.0000e+00 - lr: 5.0119e-05\n",
            "Epoch 76/100\n",
            "45/45 [==============================] - 0s 4ms/step - loss: 4998.6689 - accuracy: 0.0000e+00 - lr: 5.6234e-05\n",
            "Epoch 77/100\n",
            "45/45 [==============================] - 0s 4ms/step - loss: 4642.0337 - accuracy: 0.0000e+00 - lr: 6.3096e-05\n",
            "Epoch 78/100\n",
            "45/45 [==============================] - 0s 4ms/step - loss: 4283.8472 - accuracy: 0.0000e+00 - lr: 7.0795e-05\n",
            "Epoch 79/100\n",
            "45/45 [==============================] - 0s 4ms/step - loss: 3928.3335 - accuracy: 0.0000e+00 - lr: 7.9433e-05\n",
            "Epoch 80/100\n",
            "45/45 [==============================] - 0s 4ms/step - loss: 3581.8765 - accuracy: 0.0000e+00 - lr: 8.9125e-05\n",
            "Epoch 81/100\n",
            "45/45 [==============================] - 0s 4ms/step - loss: 3250.7217 - accuracy: 0.0000e+00 - lr: 1.0000e-04\n",
            "Epoch 82/100\n",
            "45/45 [==============================] - 0s 3ms/step - loss: 2937.9973 - accuracy: 0.0000e+00 - lr: 1.1220e-04\n",
            "Epoch 83/100\n",
            "45/45 [==============================] - 0s 4ms/step - loss: 2650.1819 - accuracy: 0.0000e+00 - lr: 1.2589e-04\n",
            "Epoch 84/100\n",
            "45/45 [==============================] - 0s 4ms/step - loss: 2392.8442 - accuracy: 0.0000e+00 - lr: 1.4125e-04\n",
            "Epoch 85/100\n",
            "45/45 [==============================] - 0s 4ms/step - loss: 2168.6558 - accuracy: 0.0000e+00 - lr: 1.5849e-04\n",
            "Epoch 86/100\n",
            "45/45 [==============================] - 0s 4ms/step - loss: 1979.3326 - accuracy: 0.0000e+00 - lr: 1.7783e-04\n",
            "Epoch 87/100\n",
            "45/45 [==============================] - 0s 4ms/step - loss: 1825.3536 - accuracy: 0.0000e+00 - lr: 1.9953e-04\n",
            "Epoch 88/100\n",
            "45/45 [==============================] - 0s 4ms/step - loss: 1704.0890 - accuracy: 0.0000e+00 - lr: 2.2387e-04\n",
            "Epoch 89/100\n",
            "45/45 [==============================] - 0s 4ms/step - loss: 1614.4012 - accuracy: 0.0000e+00 - lr: 2.5119e-04\n",
            "Epoch 90/100\n",
            "45/45 [==============================] - 0s 4ms/step - loss: 1549.3114 - accuracy: 0.0000e+00 - lr: 2.8184e-04\n",
            "Epoch 91/100\n",
            "45/45 [==============================] - 0s 4ms/step - loss: 1504.5430 - accuracy: 0.0000e+00 - lr: 3.1623e-04\n",
            "Epoch 92/100\n",
            "45/45 [==============================] - 0s 4ms/step - loss: 1478.1949 - accuracy: 0.0000e+00 - lr: 3.5481e-04\n",
            "Epoch 93/100\n",
            "45/45 [==============================] - 0s 4ms/step - loss: 1462.6724 - accuracy: 0.0000e+00 - lr: 3.9811e-04\n",
            "Epoch 94/100\n",
            "45/45 [==============================] - 0s 4ms/step - loss: 1455.0681 - accuracy: 0.0000e+00 - lr: 4.4668e-04\n",
            "Epoch 95/100\n",
            "45/45 [==============================] - 0s 4ms/step - loss: 1451.2407 - accuracy: 0.0000e+00 - lr: 5.0119e-04\n",
            "Epoch 96/100\n",
            "45/45 [==============================] - 0s 4ms/step - loss: 1451.6439 - accuracy: 0.0000e+00 - lr: 5.6234e-04\n",
            "Epoch 97/100\n",
            "45/45 [==============================] - 0s 4ms/step - loss: 1450.7338 - accuracy: 0.0000e+00 - lr: 6.3096e-04\n",
            "Epoch 98/100\n",
            "45/45 [==============================] - 0s 4ms/step - loss: 1450.3912 - accuracy: 0.0000e+00 - lr: 7.0795e-04\n",
            "Epoch 99/100\n",
            "45/45 [==============================] - 0s 4ms/step - loss: 1451.8345 - accuracy: 0.0000e+00 - lr: 7.9433e-04\n",
            "Epoch 100/100\n",
            "45/45 [==============================] - 0s 4ms/step - loss: 1451.5033 - accuracy: 0.0000e+00 - lr: 8.9125e-04\n"
          ]
        }
      ]
    },
    {
      "cell_type": "code",
      "source": [
        "#loss plot\n",
        "\n",
        "lrs = 1e-8 * (10 **(np.arange(100)/20))\n",
        "plt.semilogx(lrs,history.history[\"loss\"])\n",
        "#plt.plot(lrs,history.history[\"loss\"])\n",
        "plt.axis([1e-6,1e-3,0,100])"
      ],
      "metadata": {
        "colab": {
          "base_uri": "https://localhost:8080/",
          "height": 291
        },
        "id": "tsB5SzJUVqm8",
        "outputId": "f6cbac0e-a49c-45a7-e86d-7fcf2862fb26"
      },
      "execution_count": 65,
      "outputs": [
        {
          "output_type": "execute_result",
          "data": {
            "text/plain": [
              "(1e-06, 0.001, 0.0, 100.0)"
            ]
          },
          "metadata": {},
          "execution_count": 65
        },
        {
          "output_type": "display_data",
          "data": {
            "image/png": "[encoded data removed]",
            "text/plain": [
              "<Figure size 432x288 with 1 Axes>"
            ]
          },
          "metadata": {
            "needs_background": "light"
          }
        }
      ]
    },
    {
      "cell_type": "code",
      "source": [
        "plt.figure(figsize = (10,6))\n",
        "plot_series(time_valid, x_valid)\n",
        "plot_series(time_valid, results)"
      ],
      "metadata": {
        "colab": {
          "base_uri": "https://localhost:8080/",
          "height": 388
        },
        "id": "Y-ZusrQpYCYr",
        "outputId": "6128e7b2-a3bd-4b8e-ed95-c9471ee34189"
      },
      "execution_count": 66,
      "outputs": [
        {
          "output_type": "display_data",
          "data": {
            "image/png": "[encoded data removed]",
            "text/plain": [
              "<Figure size 720x432 with 1 Axes>"
            ]
          },
          "metadata": {
            "needs_background": "light"
          }
        }
      ]
    },
    {
      "cell_type": "markdown",
      "source": [
        "**Window size = 20** **lr = 1e-6** \n",
        "loss = 1500+\n",
        "\n",
        "**Window size = 40, lr = 1e-6**\n",
        "loss = 35 and rising to 1500+\n",
        "\n",
        "optimum lr became 1e-5"
      ],
      "metadata": {
        "id": "1GpInXqsYmoO"
      }
    },
    {
      "cell_type": "code",
      "source": [
        "#Keras Tuner tool to parameterize hyperprameters \n",
        "!pip install keras-tuner"
      ],
      "metadata": {
        "colab": {
          "base_uri": "https://localhost:8080/"
        },
        "id": "Y9frycpLYiNk",
        "outputId": "7c975040-ee32-4839-f85d-5a8a93aa508d"
      },
      "execution_count": 7,
      "outputs": [
        {
          "output_type": "stream",
          "name": "stdout",
          "text": [
            "Collecting keras-tuner\n",
            "  Downloading keras_tuner-1.1.0-py3-none-any.whl (98 kB)\n",
            "\u001b[?25l\r\u001b[K     |███▍                            | 10 kB 19.6 MB/s eta 0:00:01\r\u001b[K     |██████▊                         | 20 kB 11.5 MB/s eta 0:00:01\r\u001b[K     |██████████                      | 30 kB 9.1 MB/s eta 0:00:01\r\u001b[K     |█████████████▍                  | 40 kB 4.6 MB/s eta 0:00:01\r\u001b[K     |████████████████▊               | 51 kB 4.5 MB/s eta 0:00:01\r\u001b[K     |████████████████████            | 61 kB 5.3 MB/s eta 0:00:01\r\u001b[K     |███████████████████████▍        | 71 kB 5.8 MB/s eta 0:00:01\r\u001b[K     |██████████████████████████▊     | 81 kB 5.6 MB/s eta 0:00:01\r\u001b[K     |██████████████████████████████  | 92 kB 6.2 MB/s eta 0:00:01\r\u001b[K     |████████████████████████████████| 98 kB 3.8 MB/s \n",
            "\u001b[?25hRequirement already satisfied: scipy in /usr/local/lib/python3.7/dist-packages (from keras-tuner) (1.4.1)\n",
            "Collecting kt-legacy\n",
            "  Downloading kt_legacy-1.0.4-py3-none-any.whl (9.6 kB)\n",
            "Requirement already satisfied: packaging in /usr/local/lib/python3.7/dist-packages (from keras-tuner) (21.3)\n",
            "Requirement already satisfied: requests in /usr/local/lib/python3.7/dist-packages (from keras-tuner) (2.23.0)\n",
            "Requirement already satisfied: ipython in /usr/local/lib/python3.7/dist-packages (from keras-tuner) (5.5.0)\n",
            "Requirement already satisfied: numpy in /usr/local/lib/python3.7/dist-packages (from keras-tuner) (1.21.5)\n",
            "Requirement already satisfied: tensorboard in /usr/local/lib/python3.7/dist-packages (from keras-tuner) (2.8.0)\n",
            "Requirement already satisfied: prompt-toolkit<2.0.0,>=1.0.4 in /usr/local/lib/python3.7/dist-packages (from ipython->keras-tuner) (1.0.18)\n",
            "Requirement already satisfied: pickleshare in /usr/local/lib/python3.7/dist-packages (from ipython->keras-tuner) (0.7.5)\n",
            "Requirement already satisfied: simplegeneric>0.8 in /usr/local/lib/python3.7/dist-packages (from ipython->keras-tuner) (0.8.1)\n",
            "Requirement already satisfied: pygments in /usr/local/lib/python3.7/dist-packages (from ipython->keras-tuner) (2.6.1)\n",
            "Requirement already satisfied: pexpect in /usr/local/lib/python3.7/dist-packages (from ipython->keras-tuner) (4.8.0)\n",
            "Requirement already satisfied: decorator in /usr/local/lib/python3.7/dist-packages (from ipython->keras-tuner) (4.4.2)\n",
            "Requirement already satisfied: traitlets>=4.2 in /usr/local/lib/python3.7/dist-packages (from ipython->keras-tuner) (5.1.1)\n",
            "Requirement already satisfied: setuptools>=18.5 in /usr/local/lib/python3.7/dist-packages (from ipython->keras-tuner) (57.4.0)\n",
            "Requirement already satisfied: six>=1.9.0 in /usr/local/lib/python3.7/dist-packages (from prompt-toolkit<2.0.0,>=1.0.4->ipython->keras-tuner) (1.15.0)\n",
            "Requirement already satisfied: wcwidth in /usr/local/lib/python3.7/dist-packages (from prompt-toolkit<2.0.0,>=1.0.4->ipython->keras-tuner) (0.2.5)\n",
            "Requirement already satisfied: pyparsing!=3.0.5,>=2.0.2 in /usr/local/lib/python3.7/dist-packages (from packaging->keras-tuner) (3.0.7)\n",
            "Requirement already satisfied: ptyprocess>=0.5 in /usr/local/lib/python3.7/dist-packages (from pexpect->ipython->keras-tuner) (0.7.0)\n",
            "Requirement already satisfied: idna<3,>=2.5 in /usr/local/lib/python3.7/dist-packages (from requests->keras-tuner) (2.10)\n",
            "Requirement already satisfied: urllib3!=1.25.0,!=1.25.1,<1.26,>=1.21.1 in /usr/local/lib/python3.7/dist-packages (from requests->keras-tuner) (1.24.3)\n",
            "Requirement already satisfied: certifi>=2017.4.17 in /usr/local/lib/python3.7/dist-packages (from requests->keras-tuner) (2021.10.8)\n",
            "Requirement already satisfied: chardet<4,>=3.0.2 in /usr/local/lib/python3.7/dist-packages (from requests->keras-tuner) (3.0.4)\n",
            "Requirement already satisfied: protobuf>=3.6.0 in /usr/local/lib/python3.7/dist-packages (from tensorboard->keras-tuner) (3.17.3)\n",
            "Requirement already satisfied: werkzeug>=0.11.15 in /usr/local/lib/python3.7/dist-packages (from tensorboard->keras-tuner) (1.0.1)\n",
            "Requirement already satisfied: tensorboard-data-server<0.7.0,>=0.6.0 in /usr/local/lib/python3.7/dist-packages (from tensorboard->keras-tuner) (0.6.1)\n",
            "Requirement already satisfied: google-auth-oauthlib<0.5,>=0.4.1 in /usr/local/lib/python3.7/dist-packages (from tensorboard->keras-tuner) (0.4.6)\n",
            "Requirement already satisfied: markdown>=2.6.8 in /usr/local/lib/python3.7/dist-packages (from tensorboard->keras-tuner) (3.3.6)\n",
            "Requirement already satisfied: wheel>=0.26 in /usr/local/lib/python3.7/dist-packages (from tensorboard->keras-tuner) (0.37.1)\n",
            "Requirement already satisfied: absl-py>=0.4 in /usr/local/lib/python3.7/dist-packages (from tensorboard->keras-tuner) (1.0.0)\n",
            "Requirement already satisfied: tensorboard-plugin-wit>=1.6.0 in /usr/local/lib/python3.7/dist-packages (from tensorboard->keras-tuner) (1.8.1)\n",
            "Requirement already satisfied: google-auth<3,>=1.6.3 in /usr/local/lib/python3.7/dist-packages (from tensorboard->keras-tuner) (1.35.0)\n",
            "Requirement already satisfied: grpcio>=1.24.3 in /usr/local/lib/python3.7/dist-packages (from tensorboard->keras-tuner) (1.43.0)\n",
            "Requirement already satisfied: cachetools<5.0,>=2.0.0 in /usr/local/lib/python3.7/dist-packages (from google-auth<3,>=1.6.3->tensorboard->keras-tuner) (4.2.4)\n",
            "Requirement already satisfied: rsa<5,>=3.1.4 in /usr/local/lib/python3.7/dist-packages (from google-auth<3,>=1.6.3->tensorboard->keras-tuner) (4.8)\n",
            "Requirement already satisfied: pyasn1-modules>=0.2.1 in /usr/local/lib/python3.7/dist-packages (from google-auth<3,>=1.6.3->tensorboard->keras-tuner) (0.2.8)\n",
            "Requirement already satisfied: requests-oauthlib>=0.7.0 in /usr/local/lib/python3.7/dist-packages (from google-auth-oauthlib<0.5,>=0.4.1->tensorboard->keras-tuner) (1.3.1)\n",
            "Requirement already satisfied: importlib-metadata>=4.4 in /usr/local/lib/python3.7/dist-packages (from markdown>=2.6.8->tensorboard->keras-tuner) (4.11.0)\n",
            "Requirement already satisfied: zipp>=0.5 in /usr/local/lib/python3.7/dist-packages (from importlib-metadata>=4.4->markdown>=2.6.8->tensorboard->keras-tuner) (3.7.0)\n",
            "Requirement already satisfied: typing-extensions>=3.6.4 in /usr/local/lib/python3.7/dist-packages (from importlib-metadata>=4.4->markdown>=2.6.8->tensorboard->keras-tuner) (3.10.0.2)\n",
            "Requirement already satisfied: pyasn1<0.5.0,>=0.4.6 in /usr/local/lib/python3.7/dist-packages (from pyasn1-modules>=0.2.1->google-auth<3,>=1.6.3->tensorboard->keras-tuner) (0.4.8)\n",
            "Requirement already satisfied: oauthlib>=3.0.0 in /usr/local/lib/python3.7/dist-packages (from requests-oauthlib>=0.7.0->google-auth-oauthlib<0.5,>=0.4.1->tensorboard->keras-tuner) (3.2.0)\n",
            "Installing collected packages: kt-legacy, keras-tuner\n",
            "Successfully installed keras-tuner-1.1.0 kt-legacy-1.0.4\n"
          ]
        }
      ]
    },
    {
      "cell_type": "code",
      "source": [
        "from kerastuner.tuners import RandomSearch "
      ],
      "metadata": {
        "colab": {
          "base_uri": "https://localhost:8080/"
        },
        "id": "wjL8ft1H5n0S",
        "outputId": "a4ca8a3b-48af-4d17-d867-35ce2cf8eb97"
      },
      "execution_count": 8,
      "outputs": [
        {
          "output_type": "stream",
          "name": "stderr",
          "text": [
            "/usr/local/lib/python3.7/dist-packages/ipykernel_launcher.py:1: DeprecationWarning: `import kerastuner` is deprecated, please use `import keras_tuner`.\n",
            "  \"\"\"Entry point for launching an IPython kernel.\n"
          ]
        }
      ]
    },
    {
      "cell_type": "code",
      "source": [
        "# Cycle number of neurons in layers of model \n",
        "# this will train model 11 times, for different values of no. of neurons (10 to 30)\n",
        "\n",
        "dataset = windowed_dataset(x_train, window_size, batch_size, shuffle_buffer_size)\n",
        "\n",
        "def build_model(hp):\n",
        "  model = tf.keras.models.Sequential()\n",
        "  model.add(tf.keras.layers.Dense(units=hp.Int('units', min_value=10, max_value=30, step=2), activation='relu', input_shape=[window_size]))\n",
        "  model.add(tf.keras.layers.Dense(10, activation='relu'))\n",
        "  model.add(tf.keras.layers.Dense(1))\n",
        "\n",
        "  model.compile(loss=\"mse\", optimizer=tf.keras.optimizers.SGD(hp.Choice('momentum', values=[.9, .7, .5, .3]), lr=1e-5))\n",
        "  return model\n",
        "\n",
        "tuner = RandomSearch(build_model, objective='loss', max_trials=50, executions_per_trial=3, directory='my_dir', project_name='hello')\n",
        "\n",
        "tuner.search_space_summary()\n",
        "\n",
        "tuner.search(dataset, epochs=100, verbose=0)"
      ],
      "metadata": {
        "colab": {
          "base_uri": "https://localhost:8080/",
          "height": 505
        },
        "id": "clSU7mxgzIk9",
        "outputId": "af28ba6a-f6ba-4e81-bc00-bdda7b7817dc"
      },
      "execution_count": 9,
      "outputs": [
        {
          "output_type": "stream",
          "name": "stderr",
          "text": [
            "/usr/local/lib/python3.7/dist-packages/keras/optimizer_v2/gradient_descent.py:102: UserWarning: The `lr` argument is deprecated, use `learning_rate` instead.\n",
            "  super(SGD, self).__init__(name, **kwargs)\n"
          ]
        },
        {
          "output_type": "stream",
          "name": "stdout",
          "text": [
            "Search space summary\n",
            "Default search space size: 2\n",
            "units (Int)\n",
            "{'default': None, 'conditions': [], 'min_value': 10, 'max_value': 30, 'step': 2, 'sampling': None}\n",
            "momentum (Choice)\n",
            "{'default': 0.9, 'conditions': [], 'values': [0.9, 0.7, 0.5, 0.3], 'ordered': True}\n"
          ]
        },
        {
          "output_type": "error",
          "ename": "KeyboardInterrupt",
          "evalue": "ignored",
          "traceback": [
            "\u001b[0;31m---------------------------------------------------------------------------\u001b[0m",
            "\u001b[0;31mKeyboardInterrupt\u001b[0m                         Traceback (most recent call last)",
            "\u001b[0;32m<ipython-input-9-6b5240352582>\u001b[0m in \u001b[0;36m<module>\u001b[0;34m()\u001b[0m\n\u001b[1;32m     17\u001b[0m \u001b[0mtuner\u001b[0m\u001b[0;34m.\u001b[0m\u001b[0msearch_space_summary\u001b[0m\u001b[0;34m(\u001b[0m\u001b[0;34m)\u001b[0m\u001b[0;34m\u001b[0m\u001b[0;34m\u001b[0m\u001b[0m\n\u001b[1;32m     18\u001b[0m \u001b[0;34m\u001b[0m\u001b[0m\n\u001b[0;32m---> 19\u001b[0;31m \u001b[0mtuner\u001b[0m\u001b[0;34m.\u001b[0m\u001b[0msearch\u001b[0m\u001b[0;34m(\u001b[0m\u001b[0mdataset\u001b[0m\u001b[0;34m,\u001b[0m \u001b[0mepochs\u001b[0m\u001b[0;34m=\u001b[0m\u001b[0;36m100\u001b[0m\u001b[0;34m,\u001b[0m \u001b[0mverbose\u001b[0m\u001b[0;34m=\u001b[0m\u001b[0;36m0\u001b[0m\u001b[0;34m)\u001b[0m\u001b[0;34m\u001b[0m\u001b[0;34m\u001b[0m\u001b[0m\n\u001b[0m",
            "\u001b[0;32m/usr/local/lib/python3.7/dist-packages/keras_tuner/engine/base_tuner.py\u001b[0m in \u001b[0;36msearch\u001b[0;34m(self, *fit_args, **fit_kwargs)\u001b[0m\n\u001b[1;32m    177\u001b[0m \u001b[0;34m\u001b[0m\u001b[0m\n\u001b[1;32m    178\u001b[0m             \u001b[0mself\u001b[0m\u001b[0;34m.\u001b[0m\u001b[0mon_trial_begin\u001b[0m\u001b[0;34m(\u001b[0m\u001b[0mtrial\u001b[0m\u001b[0;34m)\u001b[0m\u001b[0;34m\u001b[0m\u001b[0;34m\u001b[0m\u001b[0m\n\u001b[0;32m--> 179\u001b[0;31m             \u001b[0mresults\u001b[0m \u001b[0;34m=\u001b[0m \u001b[0mself\u001b[0m\u001b[0;34m.\u001b[0m\u001b[0mrun_trial\u001b[0m\u001b[0;34m(\u001b[0m\u001b[0mtrial\u001b[0m\u001b[0;34m,\u001b[0m \u001b[0;34m*\u001b[0m\u001b[0mfit_args\u001b[0m\u001b[0;34m,\u001b[0m \u001b[0;34m**\u001b[0m\u001b[0mfit_kwargs\u001b[0m\u001b[0;34m)\u001b[0m\u001b[0;34m\u001b[0m\u001b[0;34m\u001b[0m\u001b[0m\n\u001b[0m\u001b[1;32m    180\u001b[0m             \u001b[0;31m# `results` is None indicates user updated oracle in `run_trial()`.\u001b[0m\u001b[0;34m\u001b[0m\u001b[0;34m\u001b[0m\u001b[0;34m\u001b[0m\u001b[0m\n\u001b[1;32m    181\u001b[0m             \u001b[0;32mif\u001b[0m \u001b[0mresults\u001b[0m \u001b[0;32mis\u001b[0m \u001b[0;32mNone\u001b[0m\u001b[0;34m:\u001b[0m\u001b[0;34m\u001b[0m\u001b[0;34m\u001b[0m\u001b[0m\n",
            "\u001b[0;32m/usr/local/lib/python3.7/dist-packages/keras_tuner/engine/tuner.py\u001b[0m in \u001b[0;36mrun_trial\u001b[0;34m(self, trial, *args, **kwargs)\u001b[0m\n\u001b[1;32m    302\u001b[0m             \u001b[0mcallbacks\u001b[0m\u001b[0;34m.\u001b[0m\u001b[0mappend\u001b[0m\u001b[0;34m(\u001b[0m\u001b[0mmodel_checkpoint\u001b[0m\u001b[0;34m)\u001b[0m\u001b[0;34m\u001b[0m\u001b[0;34m\u001b[0m\u001b[0m\n\u001b[1;32m    303\u001b[0m             \u001b[0mcopied_kwargs\u001b[0m\u001b[0;34m[\u001b[0m\u001b[0;34m\"callbacks\"\u001b[0m\u001b[0;34m]\u001b[0m \u001b[0;34m=\u001b[0m \u001b[0mcallbacks\u001b[0m\u001b[0;34m\u001b[0m\u001b[0;34m\u001b[0m\u001b[0m\n\u001b[0;32m--> 304\u001b[0;31m             \u001b[0mobj_value\u001b[0m \u001b[0;34m=\u001b[0m \u001b[0mself\u001b[0m\u001b[0;34m.\u001b[0m\u001b[0m_build_and_fit_model\u001b[0m\u001b[0;34m(\u001b[0m\u001b[0mtrial\u001b[0m\u001b[0;34m,\u001b[0m \u001b[0;34m*\u001b[0m\u001b[0margs\u001b[0m\u001b[0;34m,\u001b[0m \u001b[0;34m**\u001b[0m\u001b[0mcopied_kwargs\u001b[0m\u001b[0;34m)\u001b[0m\u001b[0;34m\u001b[0m\u001b[0;34m\u001b[0m\u001b[0m\n\u001b[0m\u001b[1;32m    305\u001b[0m \u001b[0;34m\u001b[0m\u001b[0m\n\u001b[1;32m    306\u001b[0m             \u001b[0;31m# objective left unspecified,\u001b[0m\u001b[0;34m\u001b[0m\u001b[0;34m\u001b[0m\u001b[0;34m\u001b[0m\u001b[0m\n",
            "\u001b[0;32m/usr/local/lib/python3.7/dist-packages/keras_tuner/engine/tuner.py\u001b[0m in \u001b[0;36m_build_and_fit_model\u001b[0;34m(self, trial, *args, **kwargs)\u001b[0m\n\u001b[1;32m    232\u001b[0m         \u001b[0mhp\u001b[0m \u001b[0;34m=\u001b[0m \u001b[0mtrial\u001b[0m\u001b[0;34m.\u001b[0m\u001b[0mhyperparameters\u001b[0m\u001b[0;34m\u001b[0m\u001b[0;34m\u001b[0m\u001b[0m\n\u001b[1;32m    233\u001b[0m         \u001b[0mmodel\u001b[0m \u001b[0;34m=\u001b[0m \u001b[0mself\u001b[0m\u001b[0;34m.\u001b[0m\u001b[0m_try_build\u001b[0m\u001b[0;34m(\u001b[0m\u001b[0mhp\u001b[0m\u001b[0;34m)\u001b[0m\u001b[0;34m\u001b[0m\u001b[0;34m\u001b[0m\u001b[0m\n\u001b[0;32m--> 234\u001b[0;31m         \u001b[0;32mreturn\u001b[0m \u001b[0mself\u001b[0m\u001b[0;34m.\u001b[0m\u001b[0mhypermodel\u001b[0m\u001b[0;34m.\u001b[0m\u001b[0mfit\u001b[0m\u001b[0;34m(\u001b[0m\u001b[0mhp\u001b[0m\u001b[0;34m,\u001b[0m \u001b[0mmodel\u001b[0m\u001b[0;34m,\u001b[0m \u001b[0;34m*\u001b[0m\u001b[0margs\u001b[0m\u001b[0;34m,\u001b[0m \u001b[0;34m**\u001b[0m\u001b[0mkwargs\u001b[0m\u001b[0;34m)\u001b[0m\u001b[0;34m\u001b[0m\u001b[0;34m\u001b[0m\u001b[0m\n\u001b[0m\u001b[1;32m    235\u001b[0m \u001b[0;34m\u001b[0m\u001b[0m\n\u001b[1;32m    236\u001b[0m     \u001b[0;32mdef\u001b[0m \u001b[0mrun_trial\u001b[0m\u001b[0;34m(\u001b[0m\u001b[0mself\u001b[0m\u001b[0;34m,\u001b[0m \u001b[0mtrial\u001b[0m\u001b[0;34m,\u001b[0m \u001b[0;34m*\u001b[0m\u001b[0margs\u001b[0m\u001b[0;34m,\u001b[0m \u001b[0;34m**\u001b[0m\u001b[0mkwargs\u001b[0m\u001b[0;34m)\u001b[0m\u001b[0;34m:\u001b[0m\u001b[0;34m\u001b[0m\u001b[0;34m\u001b[0m\u001b[0m\n",
            "\u001b[0;32m/usr/local/lib/python3.7/dist-packages/keras_tuner/engine/hypermodel.py\u001b[0m in \u001b[0;36mfit\u001b[0;34m(self, hp, model, *args, **kwargs)\u001b[0m\n\u001b[1;32m    135\u001b[0m             \u001b[0mIf\u001b[0m \u001b[0;32mreturn\u001b[0m \u001b[0ma\u001b[0m \u001b[0mfloat\u001b[0m\u001b[0;34m,\u001b[0m \u001b[0mit\u001b[0m \u001b[0mshould\u001b[0m \u001b[0mbe\u001b[0m \u001b[0mthe\u001b[0m\u001b[0;31m \u001b[0m\u001b[0;31m`\u001b[0m\u001b[0mobjective\u001b[0m\u001b[0;31m`\u001b[0m \u001b[0mvalue\u001b[0m\u001b[0;34m.\u001b[0m\u001b[0;34m\u001b[0m\u001b[0;34m\u001b[0m\u001b[0m\n\u001b[1;32m    136\u001b[0m         \"\"\"\n\u001b[0;32m--> 137\u001b[0;31m         \u001b[0;32mreturn\u001b[0m \u001b[0mmodel\u001b[0m\u001b[0;34m.\u001b[0m\u001b[0mfit\u001b[0m\u001b[0;34m(\u001b[0m\u001b[0;34m*\u001b[0m\u001b[0margs\u001b[0m\u001b[0;34m,\u001b[0m \u001b[0;34m**\u001b[0m\u001b[0mkwargs\u001b[0m\u001b[0;34m)\u001b[0m\u001b[0;34m\u001b[0m\u001b[0;34m\u001b[0m\u001b[0m\n\u001b[0m\u001b[1;32m    138\u001b[0m \u001b[0;34m\u001b[0m\u001b[0m\n\u001b[1;32m    139\u001b[0m \u001b[0;34m\u001b[0m\u001b[0m\n",
            "\u001b[0;32m/usr/local/lib/python3.7/dist-packages/keras/utils/traceback_utils.py\u001b[0m in \u001b[0;36merror_handler\u001b[0;34m(*args, **kwargs)\u001b[0m\n\u001b[1;32m     62\u001b[0m     \u001b[0mfiltered_tb\u001b[0m \u001b[0;34m=\u001b[0m \u001b[0;32mNone\u001b[0m\u001b[0;34m\u001b[0m\u001b[0;34m\u001b[0m\u001b[0m\n\u001b[1;32m     63\u001b[0m     \u001b[0;32mtry\u001b[0m\u001b[0;34m:\u001b[0m\u001b[0;34m\u001b[0m\u001b[0;34m\u001b[0m\u001b[0m\n\u001b[0;32m---> 64\u001b[0;31m       \u001b[0;32mreturn\u001b[0m \u001b[0mfn\u001b[0m\u001b[0;34m(\u001b[0m\u001b[0;34m*\u001b[0m\u001b[0margs\u001b[0m\u001b[0;34m,\u001b[0m \u001b[0;34m**\u001b[0m\u001b[0mkwargs\u001b[0m\u001b[0;34m)\u001b[0m\u001b[0;34m\u001b[0m\u001b[0;34m\u001b[0m\u001b[0m\n\u001b[0m\u001b[1;32m     65\u001b[0m     \u001b[0;32mexcept\u001b[0m \u001b[0mException\u001b[0m \u001b[0;32mas\u001b[0m \u001b[0me\u001b[0m\u001b[0;34m:\u001b[0m  \u001b[0;31m# pylint: disable=broad-except\u001b[0m\u001b[0;34m\u001b[0m\u001b[0;34m\u001b[0m\u001b[0m\n\u001b[1;32m     66\u001b[0m       \u001b[0mfiltered_tb\u001b[0m \u001b[0;34m=\u001b[0m \u001b[0m_process_traceback_frames\u001b[0m\u001b[0;34m(\u001b[0m\u001b[0me\u001b[0m\u001b[0;34m.\u001b[0m\u001b[0m__traceback__\u001b[0m\u001b[0;34m)\u001b[0m\u001b[0;34m\u001b[0m\u001b[0;34m\u001b[0m\u001b[0m\n",
            "\u001b[0;32m/usr/local/lib/python3.7/dist-packages/keras/engine/training.py\u001b[0m in \u001b[0;36mfit\u001b[0;34m(self, x, y, batch_size, epochs, verbose, callbacks, validation_split, validation_data, shuffle, class_weight, sample_weight, initial_epoch, steps_per_epoch, validation_steps, validation_batch_size, validation_freq, max_queue_size, workers, use_multiprocessing)\u001b[0m\n\u001b[1;32m   1382\u001b[0m                 _r=1):\n\u001b[1;32m   1383\u001b[0m               \u001b[0mcallbacks\u001b[0m\u001b[0;34m.\u001b[0m\u001b[0mon_train_batch_begin\u001b[0m\u001b[0;34m(\u001b[0m\u001b[0mstep\u001b[0m\u001b[0;34m)\u001b[0m\u001b[0;34m\u001b[0m\u001b[0;34m\u001b[0m\u001b[0m\n\u001b[0;32m-> 1384\u001b[0;31m               \u001b[0mtmp_logs\u001b[0m \u001b[0;34m=\u001b[0m \u001b[0mself\u001b[0m\u001b[0;34m.\u001b[0m\u001b[0mtrain_function\u001b[0m\u001b[0;34m(\u001b[0m\u001b[0miterator\u001b[0m\u001b[0;34m)\u001b[0m\u001b[0;34m\u001b[0m\u001b[0;34m\u001b[0m\u001b[0m\n\u001b[0m\u001b[1;32m   1385\u001b[0m               \u001b[0;32mif\u001b[0m \u001b[0mdata_handler\u001b[0m\u001b[0;34m.\u001b[0m\u001b[0mshould_sync\u001b[0m\u001b[0;34m:\u001b[0m\u001b[0;34m\u001b[0m\u001b[0;34m\u001b[0m\u001b[0m\n\u001b[1;32m   1386\u001b[0m                 \u001b[0mcontext\u001b[0m\u001b[0;34m.\u001b[0m\u001b[0masync_wait\u001b[0m\u001b[0;34m(\u001b[0m\u001b[0;34m)\u001b[0m\u001b[0;34m\u001b[0m\u001b[0;34m\u001b[0m\u001b[0m\n",
            "\u001b[0;32m/usr/local/lib/python3.7/dist-packages/tensorflow/python/util/traceback_utils.py\u001b[0m in \u001b[0;36merror_handler\u001b[0;34m(*args, **kwargs)\u001b[0m\n\u001b[1;32m    148\u001b[0m     \u001b[0mfiltered_tb\u001b[0m \u001b[0;34m=\u001b[0m \u001b[0;32mNone\u001b[0m\u001b[0;34m\u001b[0m\u001b[0;34m\u001b[0m\u001b[0m\n\u001b[1;32m    149\u001b[0m     \u001b[0;32mtry\u001b[0m\u001b[0;34m:\u001b[0m\u001b[0;34m\u001b[0m\u001b[0;34m\u001b[0m\u001b[0m\n\u001b[0;32m--> 150\u001b[0;31m       \u001b[0;32mreturn\u001b[0m \u001b[0mfn\u001b[0m\u001b[0;34m(\u001b[0m\u001b[0;34m*\u001b[0m\u001b[0margs\u001b[0m\u001b[0;34m,\u001b[0m \u001b[0;34m**\u001b[0m\u001b[0mkwargs\u001b[0m\u001b[0;34m)\u001b[0m\u001b[0;34m\u001b[0m\u001b[0;34m\u001b[0m\u001b[0m\n\u001b[0m\u001b[1;32m    151\u001b[0m     \u001b[0;32mexcept\u001b[0m \u001b[0mException\u001b[0m \u001b[0;32mas\u001b[0m \u001b[0me\u001b[0m\u001b[0;34m:\u001b[0m\u001b[0;34m\u001b[0m\u001b[0;34m\u001b[0m\u001b[0m\n\u001b[1;32m    152\u001b[0m       \u001b[0mfiltered_tb\u001b[0m \u001b[0;34m=\u001b[0m \u001b[0m_process_traceback_frames\u001b[0m\u001b[0;34m(\u001b[0m\u001b[0me\u001b[0m\u001b[0;34m.\u001b[0m\u001b[0m__traceback__\u001b[0m\u001b[0;34m)\u001b[0m\u001b[0;34m\u001b[0m\u001b[0;34m\u001b[0m\u001b[0m\n",
            "\u001b[0;32m/usr/local/lib/python3.7/dist-packages/tensorflow/python/eager/def_function.py\u001b[0m in \u001b[0;36m__call__\u001b[0;34m(self, *args, **kwds)\u001b[0m\n\u001b[1;32m    913\u001b[0m \u001b[0;34m\u001b[0m\u001b[0m\n\u001b[1;32m    914\u001b[0m       \u001b[0;32mwith\u001b[0m \u001b[0mOptionalXlaContext\u001b[0m\u001b[0;34m(\u001b[0m\u001b[0mself\u001b[0m\u001b[0;34m.\u001b[0m\u001b[0m_jit_compile\u001b[0m\u001b[0;34m)\u001b[0m\u001b[0;34m:\u001b[0m\u001b[0;34m\u001b[0m\u001b[0;34m\u001b[0m\u001b[0m\n\u001b[0;32m--> 915\u001b[0;31m         \u001b[0mresult\u001b[0m \u001b[0;34m=\u001b[0m \u001b[0mself\u001b[0m\u001b[0;34m.\u001b[0m\u001b[0m_call\u001b[0m\u001b[0;34m(\u001b[0m\u001b[0;34m*\u001b[0m\u001b[0margs\u001b[0m\u001b[0;34m,\u001b[0m \u001b[0;34m**\u001b[0m\u001b[0mkwds\u001b[0m\u001b[0;34m)\u001b[0m\u001b[0;34m\u001b[0m\u001b[0;34m\u001b[0m\u001b[0m\n\u001b[0m\u001b[1;32m    916\u001b[0m \u001b[0;34m\u001b[0m\u001b[0m\n\u001b[1;32m    917\u001b[0m       \u001b[0mnew_tracing_count\u001b[0m \u001b[0;34m=\u001b[0m \u001b[0mself\u001b[0m\u001b[0;34m.\u001b[0m\u001b[0mexperimental_get_tracing_count\u001b[0m\u001b[0;34m(\u001b[0m\u001b[0;34m)\u001b[0m\u001b[0;34m\u001b[0m\u001b[0;34m\u001b[0m\u001b[0m\n",
            "\u001b[0;32m/usr/local/lib/python3.7/dist-packages/tensorflow/python/eager/def_function.py\u001b[0m in \u001b[0;36m_call\u001b[0;34m(self, *args, **kwds)\u001b[0m\n\u001b[1;32m    945\u001b[0m       \u001b[0;31m# In this case we have created variables on the first call, so we run the\u001b[0m\u001b[0;34m\u001b[0m\u001b[0;34m\u001b[0m\u001b[0;34m\u001b[0m\u001b[0m\n\u001b[1;32m    946\u001b[0m       \u001b[0;31m# defunned version which is guaranteed to never create variables.\u001b[0m\u001b[0;34m\u001b[0m\u001b[0;34m\u001b[0m\u001b[0;34m\u001b[0m\u001b[0m\n\u001b[0;32m--> 947\u001b[0;31m       \u001b[0;32mreturn\u001b[0m \u001b[0mself\u001b[0m\u001b[0;34m.\u001b[0m\u001b[0m_stateless_fn\u001b[0m\u001b[0;34m(\u001b[0m\u001b[0;34m*\u001b[0m\u001b[0margs\u001b[0m\u001b[0;34m,\u001b[0m \u001b[0;34m**\u001b[0m\u001b[0mkwds\u001b[0m\u001b[0;34m)\u001b[0m  \u001b[0;31m# pylint: disable=not-callable\u001b[0m\u001b[0;34m\u001b[0m\u001b[0;34m\u001b[0m\u001b[0m\n\u001b[0m\u001b[1;32m    948\u001b[0m     \u001b[0;32melif\u001b[0m \u001b[0mself\u001b[0m\u001b[0;34m.\u001b[0m\u001b[0m_stateful_fn\u001b[0m \u001b[0;32mis\u001b[0m \u001b[0;32mnot\u001b[0m \u001b[0;32mNone\u001b[0m\u001b[0;34m:\u001b[0m\u001b[0;34m\u001b[0m\u001b[0;34m\u001b[0m\u001b[0m\n\u001b[1;32m    949\u001b[0m       \u001b[0;31m# Release the lock early so that multiple threads can perform the call\u001b[0m\u001b[0;34m\u001b[0m\u001b[0;34m\u001b[0m\u001b[0;34m\u001b[0m\u001b[0m\n",
            "\u001b[0;32m/usr/local/lib/python3.7/dist-packages/tensorflow/python/eager/function.py\u001b[0m in \u001b[0;36m__call__\u001b[0;34m(self, *args, **kwargs)\u001b[0m\n\u001b[1;32m   2955\u001b[0m        filtered_flat_args) = self._maybe_define_function(args, kwargs)\n\u001b[1;32m   2956\u001b[0m     return graph_function._call_flat(\n\u001b[0;32m-> 2957\u001b[0;31m         filtered_flat_args, captured_inputs=graph_function.captured_inputs)  # pylint: disable=protected-access\n\u001b[0m\u001b[1;32m   2958\u001b[0m \u001b[0;34m\u001b[0m\u001b[0m\n\u001b[1;32m   2959\u001b[0m   \u001b[0;34m@\u001b[0m\u001b[0mproperty\u001b[0m\u001b[0;34m\u001b[0m\u001b[0;34m\u001b[0m\u001b[0m\n",
            "\u001b[0;32m/usr/local/lib/python3.7/dist-packages/tensorflow/python/eager/function.py\u001b[0m in \u001b[0;36m_call_flat\u001b[0;34m(self, args, captured_inputs, cancellation_manager)\u001b[0m\n\u001b[1;32m   1852\u001b[0m       \u001b[0;31m# No tape is watching; skip to running the function.\u001b[0m\u001b[0;34m\u001b[0m\u001b[0;34m\u001b[0m\u001b[0;34m\u001b[0m\u001b[0m\n\u001b[1;32m   1853\u001b[0m       return self._build_call_outputs(self._inference_function.call(\n\u001b[0;32m-> 1854\u001b[0;31m           ctx, args, cancellation_manager=cancellation_manager))\n\u001b[0m\u001b[1;32m   1855\u001b[0m     forward_backward = self._select_forward_and_backward_functions(\n\u001b[1;32m   1856\u001b[0m         \u001b[0margs\u001b[0m\u001b[0;34m,\u001b[0m\u001b[0;34m\u001b[0m\u001b[0;34m\u001b[0m\u001b[0m\n",
            "\u001b[0;32m/usr/local/lib/python3.7/dist-packages/tensorflow/python/eager/function.py\u001b[0m in \u001b[0;36mcall\u001b[0;34m(self, ctx, args, cancellation_manager)\u001b[0m\n\u001b[1;32m    502\u001b[0m               \u001b[0minputs\u001b[0m\u001b[0;34m=\u001b[0m\u001b[0margs\u001b[0m\u001b[0;34m,\u001b[0m\u001b[0;34m\u001b[0m\u001b[0;34m\u001b[0m\u001b[0m\n\u001b[1;32m    503\u001b[0m               \u001b[0mattrs\u001b[0m\u001b[0;34m=\u001b[0m\u001b[0mattrs\u001b[0m\u001b[0;34m,\u001b[0m\u001b[0;34m\u001b[0m\u001b[0;34m\u001b[0m\u001b[0m\n\u001b[0;32m--> 504\u001b[0;31m               ctx=ctx)\n\u001b[0m\u001b[1;32m    505\u001b[0m         \u001b[0;32melse\u001b[0m\u001b[0;34m:\u001b[0m\u001b[0;34m\u001b[0m\u001b[0;34m\u001b[0m\u001b[0m\n\u001b[1;32m    506\u001b[0m           outputs = execute.execute_with_cancellation(\n",
            "\u001b[0;32m/usr/local/lib/python3.7/dist-packages/tensorflow/python/eager/execute.py\u001b[0m in \u001b[0;36mquick_execute\u001b[0;34m(op_name, num_outputs, inputs, attrs, ctx, name)\u001b[0m\n\u001b[1;32m     53\u001b[0m     \u001b[0mctx\u001b[0m\u001b[0;34m.\u001b[0m\u001b[0mensure_initialized\u001b[0m\u001b[0;34m(\u001b[0m\u001b[0;34m)\u001b[0m\u001b[0;34m\u001b[0m\u001b[0;34m\u001b[0m\u001b[0m\n\u001b[1;32m     54\u001b[0m     tensors = pywrap_tfe.TFE_Py_Execute(ctx._handle, device_name, op_name,\n\u001b[0;32m---> 55\u001b[0;31m                                         inputs, attrs, num_outputs)\n\u001b[0m\u001b[1;32m     56\u001b[0m   \u001b[0;32mexcept\u001b[0m \u001b[0mcore\u001b[0m\u001b[0;34m.\u001b[0m\u001b[0m_NotOkStatusException\u001b[0m \u001b[0;32mas\u001b[0m \u001b[0me\u001b[0m\u001b[0;34m:\u001b[0m\u001b[0;34m\u001b[0m\u001b[0;34m\u001b[0m\u001b[0m\n\u001b[1;32m     57\u001b[0m     \u001b[0;32mif\u001b[0m \u001b[0mname\u001b[0m \u001b[0;32mis\u001b[0m \u001b[0;32mnot\u001b[0m \u001b[0;32mNone\u001b[0m\u001b[0;34m:\u001b[0m\u001b[0;34m\u001b[0m\u001b[0;34m\u001b[0m\u001b[0m\n",
            "\u001b[0;31mKeyboardInterrupt\u001b[0m: "
          ]
        }
      ]
    },
    {
      "cell_type": "code",
      "source": [
        "models = tuner.get_best_models(num_models=4)\n"
      ],
      "metadata": {
        "id": "9U4uKEWP5HzM"
      },
      "execution_count": null,
      "outputs": []
    },
    {
      "cell_type": "code",
      "source": [
        "dataset = windowed_dataset(x_train, window_size, batch_size, \n",
        "                           shuffle_buffer_size)\n",
        "\n",
        "model = tf.keras.models.Sequential([\n",
        "    tf.keras.layers.Dense(28, input_shape=[window_size], \n",
        "                           activation=\"relu\"), \n",
        "    tf.keras.layers.Dense(10, activation=\"relu\"), \n",
        "    tf.keras.layers.Dense(1)\n",
        "])\n",
        "\n",
        "optimizer = tf.keras.optimizers.SGD(lr=1e-5, momentum=0.5)\n",
        "model.compile(loss=\"mse\", optimizer=optimizer)\n",
        "history = model.fit(dataset, epochs=100,  verbose=1)\n",
        "\n"
      ],
      "metadata": {
        "id": "D6qb77_w5xrT"
      },
      "execution_count": null,
      "outputs": []
    },
    {
      "cell_type": "code",
      "source": [
        ""
      ],
      "metadata": {
        "id": "sQJ2Q0VZA69W"
      },
      "execution_count": null,
      "outputs": []
    }
  ]
}